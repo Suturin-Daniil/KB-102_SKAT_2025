{
 "cells": [
  {
   "cell_type": "code",
   "execution_count": 66,
   "id": "ac39d482",
   "metadata": {},
   "outputs": [],
   "source": [
    "import matplotlib.pyplot as plt\n",
    "import numpy as np"
   ]
  },
  {
   "cell_type": "code",
   "execution_count": 67,
   "id": "1fee1cca",
   "metadata": {},
   "outputs": [
    {
     "data": {
      "text/plain": [
       "array([[ 1.0000e+00,  0.0000e+00,  0.0000e+00],\n",
       "       [ 9.9674e-01,  4.8000e-04,  0.0000e+00],\n",
       "       [ 9.8712e-01,  2.0400e-03,  0.0000e+00],\n",
       "       [ 9.7155e-01,  4.8500e-03,  0.0000e+00],\n",
       "       [ 9.5054e-01,  8.9400e-03,  0.0000e+00],\n",
       "       [ 9.2464e-01,  1.4200e-02,  0.0000e+00],\n",
       "       [ 8.9436e-01,  2.0410e-02,  0.0000e+00],\n",
       "       [ 8.6021e-01,  2.7310e-02,  0.0000e+00],\n",
       "       [ 8.2264e-01,  3.4600e-02,  0.0000e+00],\n",
       "       [ 7.8208e-01,  4.1990e-02,  0.0000e+00],\n",
       "       [ 7.3892e-01,  4.9250e-02,  0.0000e+00],\n",
       "       [ 6.9356e-01,  5.6200e-02,  0.0000e+00],\n",
       "       [ 6.4646e-01,  6.2700e-02,  0.0000e+00],\n",
       "       [ 5.9812e-01,  6.8610e-02,  0.0000e+00],\n",
       "       [ 5.4902e-01,  7.3810e-02,  0.0000e+00],\n",
       "       [ 4.9967e-01,  7.8160e-02,  0.0000e+00],\n",
       "       [ 4.5058e-01,  8.1540e-02,  0.0000e+00],\n",
       "       [ 4.0222e-01,  8.3850e-02,  0.0000e+00],\n",
       "       [ 3.5506e-01,  8.5000e-02,  0.0000e+00],\n",
       "       [ 3.0953e-01,  8.4930e-02,  0.0000e+00],\n",
       "       [ 2.6604e-01,  8.3590e-02,  0.0000e+00],\n",
       "       [ 2.2499e-01,  8.0960e-02,  0.0000e+00],\n",
       "       [ 1.8671e-01,  7.7030e-02,  0.0000e+00],\n",
       "       [ 1.5146e-01,  7.1820e-02,  0.0000e+00],\n",
       "       [ 1.1948e-01,  6.5480e-02,  0.0000e+00],\n",
       "       [ 9.1050e-02,  5.8090e-02,  0.0000e+00],\n",
       "       [ 6.6270e-02,  4.9760e-02,  0.0000e+00],\n",
       "       [ 4.5240e-02,  4.0780e-02,  0.0000e+00],\n",
       "       [ 2.8120e-02,  3.1450e-02,  0.0000e+00],\n",
       "       [ 1.5020e-02,  2.2060e-02,  0.0000e+00],\n",
       "       [ 6.0600e-03,  1.2930e-02,  0.0000e+00],\n",
       "       [ 1.1500e-03,  4.4800e-03,  0.0000e+00],\n",
       "       [ 3.8000e-04, -2.2300e-03,  0.0000e+00],\n",
       "       [ 5.3200e-03, -7.0100e-03,  0.0000e+00],\n",
       "       [ 1.6490e-02, -1.0880e-02,  0.0000e+00],\n",
       "       [ 3.3080e-02, -1.4030e-02,  0.0000e+00],\n",
       "       [ 5.4910e-02, -1.6350e-02,  0.0000e+00],\n",
       "       [ 8.1800e-02, -1.7870e-02,  0.0000e+00],\n",
       "       [ 1.1351e-01, -1.8620e-02,  0.0000e+00],\n",
       "       [ 1.4974e-01, -1.8670e-02,  0.0000e+00],\n",
       "       [ 1.9010e-01, -1.8100e-02,  0.0000e+00],\n",
       "       [ 2.3420e-01, -1.6990e-02,  0.0000e+00],\n",
       "       [ 2.8153e-01, -1.5470e-02,  0.0000e+00],\n",
       "       [ 3.3154e-01, -1.3630e-02,  0.0000e+00],\n",
       "       [ 3.8364e-01, -1.1520e-02,  0.0000e+00],\n",
       "       [ 4.3724e-01, -9.2200e-03,  0.0000e+00],\n",
       "       [ 4.9176e-01, -6.7800e-03,  0.0000e+00],\n",
       "       [ 5.4659e-01, -4.3000e-03,  0.0000e+00],\n",
       "       [ 6.0112e-01, -1.9000e-03,  0.0000e+00],\n",
       "       [ 6.5469e-01,  3.0000e-04,  0.0000e+00],\n",
       "       [ 7.0664e-01,  2.2400e-03,  0.0000e+00],\n",
       "       [ 7.5634e-01,  3.7900e-03,  0.0000e+00],\n",
       "       [ 8.0313e-01,  4.8500e-03,  0.0000e+00],\n",
       "       [ 8.4635e-01,  5.3500e-03,  0.0000e+00],\n",
       "       [ 8.8534e-01,  5.2600e-03,  0.0000e+00],\n",
       "       [ 9.1942e-01,  4.5800e-03,  0.0000e+00],\n",
       "       [ 9.4797e-01,  3.5000e-03,  0.0000e+00],\n",
       "       [ 9.7054e-01,  2.2600e-03,  0.0000e+00],\n",
       "       [ 9.8684e-01,  1.1300e-03,  0.0000e+00],\n",
       "       [ 9.9670e-01,  3.0000e-04,  0.0000e+00],\n",
       "       [ 1.0000e+00,  0.0000e+00,  0.0000e+00]])"
      ]
     },
     "execution_count": 67,
     "metadata": {},
     "output_type": "execute_result"
    }
   ],
   "source": [
    "Coord = np.loadtxt('SD7032.txt', dtype=float)\n",
    "X = Coord[:,0]\n",
    "Y = Coord[:, 1]\n",
    "Z = Coord[:, 2]\n",
    "Coord"
   ]
  },
  {
   "cell_type": "code",
   "execution_count": 68,
   "id": "896fe174",
   "metadata": {},
   "outputs": [],
   "source": [
    "def Scale(cord, chord):\n",
    "    cord_copy = np.copy(cord)\n",
    "    n = len(cord[:,0])\n",
    "    e = np.ones(n)\n",
    "    cord_copy[:,0] *= chord*e\n",
    "    cord_copy[:,1] *= chord*e\n",
    "    return cord_copy\n",
    "\n",
    "def Translation(cord, dr):\n",
    "    dx, dy, dz = dr\n",
    "    n = len(cord[:,0])\n",
    "    e = np.ones(n)\n",
    "    cord_copy = np.copy(cord)\n",
    "    cord_copy[:,0] += dx*e\n",
    "    cord_copy[:,1] += dy*e\n",
    "    cord_copy[:,2] += dz*e\n",
    "    return cord_copy\n",
    "    \n",
    "def Rotation(cord, angle, axis):\n",
    "    phi = angle / 57.3\n",
    "    if axis == 'x':\n",
    "        S = np.array([[1, 0, 0],[0, np.cos(phi), np.sin(phi)], [0,-np.sin(phi) ,np.cos(phi)]])\n",
    "    elif axis == 'y':\n",
    "        S = np.array([[np.cos(phi), 0, -np.sin(phi)],[0, 1, 0], [np.sin(phi), 0, np.cos(phi)]])\n",
    "    else:\n",
    "        S = np.array([[np.cos(phi), np.sin(phi), 0], [-np.sin(phi), np.cos(phi), 0], [0,0,1]])\n",
    "    \n",
    "    cord_copy=np.copy(cord)\n",
    "    for el in cord_copy:\n",
    "        el @= S\n",
    "    return cord_copy\n",
    "\n",
    "a = Scale(Coord, 260)\n",
    "a = Rotation(a, -1.8, 'z')\n",
    "np.savetxt('SD7032_260mm_1.8rot.txt', a, delimiter=',')"
   ]
  },
  {
   "cell_type": "code",
   "execution_count": null,
   "id": "24492e3b",
   "metadata": {},
   "outputs": [],
   "source": []
  }
 ],
 "metadata": {
  "kernelspec": {
   "display_name": "Python 3",
   "language": "python",
   "name": "python3"
  },
  "language_info": {
   "codemirror_mode": {
    "name": "ipython",
    "version": 3
   },
   "file_extension": ".py",
   "mimetype": "text/x-python",
   "name": "python",
   "nbconvert_exporter": "python",
   "pygments_lexer": "ipython3",
   "version": "3.10.7"
  }
 },
 "nbformat": 4,
 "nbformat_minor": 5
}
