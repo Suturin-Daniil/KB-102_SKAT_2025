{
 "cells": [
  {
   "cell_type": "code",
   "execution_count": 23,
   "id": "ac39d482",
   "metadata": {},
   "outputs": [],
   "source": [
    "import matplotlib.pyplot as plt\n",
    "import numpy as np"
   ]
  },
  {
   "cell_type": "code",
   "execution_count": 24,
   "id": "1fee1cca",
   "metadata": {},
   "outputs": [],
   "source": [
    "Coord = np.loadtxt('D:/Education/SKAT2025/KB-102_SKAT_2025/Модель/КоординатыПрофилей/NACA0008.txt', dtype=float)"
   ]
  },
  {
   "cell_type": "code",
   "execution_count": 25,
   "id": "896fe174",
   "metadata": {},
   "outputs": [],
   "source": [
    "def Scale(cord, chord):\n",
    "    if len(cord[0,:]) < 3:\n",
    "        cord = np.concat((cord, np.zeros((len(cord[:,0]),1))), axis=1) # если координаты на z нет, то добавляем\n",
    "    cord_copy = np.copy(cord)\n",
    "    n = len(cord[:,0])\n",
    "    e = np.ones(n)\n",
    "    cord_copy[:,0] *= chord*e\n",
    "    cord_copy[:,1] *= chord*e\n",
    "    return cord_copy\n",
    "\n",
    "def Translation(cord, dr):\n",
    "    dx, dy, dz = dr\n",
    "    n = len(cord[:,0])\n",
    "    e = np.ones(n)\n",
    "    cord_copy = np.copy(cord)\n",
    "    cord_copy[:,0] += dx*e\n",
    "    cord_copy[:,1] += dy*e\n",
    "    cord_copy[:,2] += dz*e\n",
    "    return cord_copy\n",
    "    \n",
    "def Rotation(cord, angle, axis):\n",
    "    phi = angle / 57.3\n",
    "    if axis == 'x':\n",
    "        S = np.array([[1, 0, 0],[0, np.cos(phi), np.sin(phi)], [0,-np.sin(phi) ,np.cos(phi)]])\n",
    "    elif axis == 'y':\n",
    "        S = np.array([[np.cos(phi), 0, -np.sin(phi)],[0, 1, 0], [np.sin(phi), 0, np.cos(phi)]])\n",
    "    else:\n",
    "        S = np.array([[np.cos(phi), np.sin(phi), 0], [-np.sin(phi), np.cos(phi), 0], [0,0,1]])\n",
    "    \n",
    "    cord_copy=np.copy(cord)\n",
    "    for el in cord_copy:\n",
    "        el @= S\n",
    "    return cord_copy\n",
    "\n",
    "a = Scale(Coord, 195)\n",
    "a = Translation(a, (0, 0, 0))\n",
    "a = Rotation(a, 28, 'x')\n",
    "np.savetxt('NACA0008_182mm_rot_x_28deg.txt', a, delimiter=',')"
   ]
  },
  {
   "cell_type": "code",
   "execution_count": null,
   "id": "24492e3b",
   "metadata": {},
   "outputs": [],
   "source": []
  }
 ],
 "metadata": {
  "kernelspec": {
   "display_name": "Python 3",
   "language": "python",
   "name": "python3"
  },
  "language_info": {
   "codemirror_mode": {
    "name": "ipython",
    "version": 3
   },
   "file_extension": ".py",
   "mimetype": "text/x-python",
   "name": "python",
   "nbconvert_exporter": "python",
   "pygments_lexer": "ipython3",
   "version": "3.10.7"
  }
 },
 "nbformat": 4,
 "nbformat_minor": 5
}
