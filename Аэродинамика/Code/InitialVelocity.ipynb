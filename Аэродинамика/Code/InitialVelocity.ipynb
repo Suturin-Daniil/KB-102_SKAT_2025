{
 "cells": [
  {
   "cell_type": "code",
   "execution_count": 1,
   "id": "9f9004a7",
   "metadata": {},
   "outputs": [],
   "source": [
    "import numpy as np\n",
    "import matplotlib.pyplot as plt"
   ]
  },
  {
   "cell_type": "markdown",
   "id": "c605b428",
   "metadata": {},
   "source": [
    "![.](11Bottle.png)"
   ]
  },
  {
   "cell_type": "code",
   "execution_count": 5,
   "id": "9357a14f",
   "metadata": {},
   "outputs": [
    {
     "data": {
      "text/plain": [
       "np.float64(6.752569521408622)"
      ]
     },
     "execution_count": 5,
     "metadata": {},
     "output_type": "execute_result"
    }
   ],
   "source": [
    "x = np.array([1359, 1403, 1327, 1353, 1409, 1441, 1485, 1535, 1572, 1616, 1654, 1697, 1735, 1772,1816,1860,1916])/1000\n",
    "y = np.array([601, 570, 632, 614, 576, 539, 501, 463, 426, 395, 370, 338, 313, 282,251,219,194])/1000\n",
    "\n",
    "V  = []\n",
    "for i in range(len(x)-1):\n",
    "    V.append(np.sqrt(((x[i+1] - x[i])/0.008234)**2 + ((y[i+1] - y[i])/0.008234)**2))\n",
    "np.mean(V)"
   ]
  }
 ],
 "metadata": {
  "kernelspec": {
   "display_name": "Python 3",
   "language": "python",
   "name": "python3"
  },
  "language_info": {
   "codemirror_mode": {
    "name": "ipython",
    "version": 3
   },
   "file_extension": ".py",
   "mimetype": "text/x-python",
   "name": "python",
   "nbconvert_exporter": "python",
   "pygments_lexer": "ipython3",
   "version": "3.10.7"
  }
 },
 "nbformat": 4,
 "nbformat_minor": 5
}
