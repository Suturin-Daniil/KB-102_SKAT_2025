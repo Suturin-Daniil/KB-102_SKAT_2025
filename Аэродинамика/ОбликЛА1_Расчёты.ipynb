{
 "cells": [
  {
   "cell_type": "code",
   "execution_count": 2,
   "id": "07c1ba9e",
   "metadata": {},
   "outputs": [],
   "source": [
    "from IPython.display import Markdown as md\n",
    "from IPython.display import display_markdown as dm\n",
    "import numpy as np\n",
    "from numpy.linalg import norm\n",
    "# import pandas as pd\n",
    "import matplotlib.pyplot as plt\n",
    "import sympy as smp\n",
    "import scipy as scp\n",
    "from scipy.interpolate import interp1d"
   ]
  },
  {
   "cell_type": "code",
   "execution_count": 204,
   "id": "fa3bd2dc",
   "metadata": {},
   "outputs": [
    {
     "name": "stdout",
     "output_type": "stream",
     "text": [
      "2.563997106506415\n"
     ]
    },
    {
     "data": {
      "text/plain": [
       "np.float64(-0.0033722901717988946)"
      ]
     },
     "execution_count": 204,
     "metadata": {},
     "output_type": "execute_result"
    },
    {
     "data": {
      "image/png": "[encoded data removed]",
      "text/plain": [
       "<Figure size 649.606x600 with 1 Axes>"
      ]
     },
     "metadata": {},
     "output_type": "display_data"
    }
   ],
   "source": [
    "class UAV:\n",
    "    __rho0 = 1.225\n",
    "    rho = __rho0\n",
    "    __g = 9.81\n",
    "    __mu = 0.0289644\n",
    "    __R = 8.3144598\n",
    "    T = 273 + 15\n",
    "    __visc = 18e-6 # вязкость\n",
    "    def __init__(self, mass, V, CGposition, WingData, FusWidth, FusLength, Tail, cr=0, SweepQuart = True, H = 0):\n",
    "        self.Va = V\n",
    "        self.H = H\n",
    "        self.__mass = mass\n",
    "        self.W = self.__mass * self.__g\n",
    "        self.S = WingData[1]\n",
    "        self.d = FusWidth\n",
    "        self.L = FusLength\n",
    "        self.FusS = 0.4 # Надо изменить \n",
    "\n",
    "        self.__Ttype = Tail[0] # тип хвостового оперения \n",
    "        self.__Vht = Tail[2] # объемные коэффициенты хвостового оперения\n",
    "        self.__Vvt = Tail[3]\n",
    "        self.__Lt = Tail[4] # длина балки хвостового оперения (плечо хвоста) (между четвертями хорд)\n",
    "        self.ART = 2 # Удлинение хвоствого оперения \n",
    "        self.TRT = 0.6 # сужение хвостового оперения\n",
    "\n",
    "        self.__hac = 0.25 # расстояние от передней кромки крыла в ед САХ до аэродинамич центра \n",
    "        self.__hcg = CGposition # расстояние от передней кромки крыла в ед САХ до центра тяжести\n",
    "\n",
    "        # Расчет размера крыла ###############################################\n",
    "        if (cr == 0):\n",
    "            self.AR = WingData[3]\n",
    "            self.TR = WingData[2]\n",
    "            self.c = np.sqrt(self.S/self.AR)\n",
    "            self.b = self.S/self.c\n",
    "            self.cr = self.S / (self.d + (1 + self.TR)*(self.b - self.d)/2)\n",
    "            self.ct = self.cr * self.TR\n",
    "\n",
    "        elif (cr != 0):\n",
    "            self.AR = WingData[3]\n",
    "            self.cr = WingData[4]\n",
    "            self.c = np.sqrt(self.S/self.AR)\n",
    "            self.b = self.S/self.c\n",
    "            self.ct = 2*(self.S - self.cr*self.d)/(self.b - self.d) - self.cr\n",
    "            self.TR = self.ct/self.cr\n",
    "            if (self.TR >= 1):\n",
    "                self.TR = 1\n",
    "                self.c = np.sqrt(self.S/self.AR)\n",
    "                self.ct = self.c\n",
    "                self.cr = self.ct\n",
    "\n",
    "        ex = np.array([1., 0])\n",
    "        ey = np.array([0, 1.])\n",
    "        if (SweepQuart == False):\n",
    "            a = 3/4*self.cr * ex + ey * 0.5 * (self.b - self.d) + ex*1/4*self.ct - ex*self.cr\n",
    "            b = 3/4*self.cr * ex + ey * 0.5 * (self.b - self.d) - ex * 3/4*self.ct\n",
    "            e = b + ex*0.5*self.ct\n",
    "    \n",
    "            self.SweepLE = np.acos(np.dot(ey, a) / (norm(a) * norm(ey)))\n",
    "            self.SweepTE = np.acos(np.dot(ey, b) / (norm(b) * norm(ey)))\n",
    "\n",
    "            self.SweepHalf = np.acos(np.dot(ey, e - ex*0.5*self.cr) / (norm(e - ex*0.5*self.cr) * norm(ey)))\n",
    "            self.SweepQuart = 0\n",
    "        elif (SweepQuart == True):\n",
    "            self.SweepLE = np.atan((self.cr - self.ct) / (self.b - self.d))\n",
    "            self.SweepQuart = np.tan(self.SweepLE) + self.cr*0.5/(self.b - self.d) * (self.TR - 1)\n",
    "            self.SweepHalf = 0\n",
    "\n",
    "        self.__Swet = 2*self.S - 2 * (self.d * self.cr)\n",
    "        #########################################################################################\n",
    "\n",
    "        # Расчет размера хвоствого оперения #####################################################\n",
    "        self.Sht = self.__Vht * self.c * self.S / self.__Lt\n",
    "        self.Svt = self.__Vvt * self.b * self.S / self.__Lt\n",
    "        if (self.__Ttype == 'V'):\n",
    "            self.Stail = self.Sht + self.Svt\n",
    "            self.DihedraTail = np.atan(self.Svt/self.Sht) # rad\n",
    "        self.btail = np.sqrt(self.Stail / 2  * self.ART)\n",
    "        self.ctail = self.btail / self.ART\n",
    "        self.crtail = 2 * self.ctail / (1 + self.TRT)\n",
    "        self.cttail = self.TRT * self.crtail\n",
    "\n",
    "        self.SweepLEtail = np.atan((self.crtail - self.cttail) / self.btail)\n",
    "        self.SweepQuarttail = np.atan( 3 * (self.crtail - self.cttail) / (4 * self.btail))\n",
    "        self.SweepHalftail = np.atan( (-self.cttail + self.crtail) / (2 * self.btail) )\n",
    "\n",
    "        self.__Swettail = self.Stail * 2 # Полная площадь хвостового оперения\n",
    "        #########################################################################################\n",
    "\n",
    "        self.airfoilW = WingData[0]\n",
    "        if (self.GetReynolds('MeanW') <= 250000):\n",
    "            self.airfoilWDat = np.loadtxt('{}.txt'.format(self.airfoilW), skiprows = 11, dtype=float)\n",
    "        elif (self.GetReynolds('MeanW') > 250000 and self.GetReynolds('MeanW') <= 400000):\n",
    "            self.airfoilWDat = np.loadtxt('{}_300.txt'.format(self.airfoilW), skiprows = 11, dtype=float)\n",
    "        elif (self.GetReynolds('MeanW') > 400000 and self.GetReynolds('MeanW') <= 600000):\n",
    "            self.airfoilWDat = np.loadtxt('{}_500.txt'.format(self.airfoilW), skiprows = 11, dtype=float)\n",
    "        elif (self.GetReynolds('MeanW') > 500000 and self.GetReynolds('MeanW') <= 1000000):\n",
    "            self.airfoilWDat = np.loadtxt('{}_1000.txt'.format(self.airfoilW), skiprows = 11, dtype=float)\n",
    "        self.xtop = self.airfoilWDat[:, 5]\n",
    "        self.xbot = self.airfoilWDat[:, 6]\n",
    "        self.AOA = self.airfoilWDat[:, 0] - np.ones(len(self.airfoilWDat[:, 0]))*WingData[-1] \n",
    "        self.fxtop = interp1d(self.AOA, self.xtop) # интерполяционные функции для точки перехода\n",
    "        self.fxbot = interp1d(self.AOA, self.xbot) # от ламинарного к турбулентному течению в зависимости от угла атаки\n",
    "\n",
    "        self.airfoilWGeo = np.loadtxt('{}G.txt'.format(self.airfoilW), skiprows=1, dtype=float)\n",
    "        self.thick = self.airfoilWGeo[0]\n",
    "        self.thickLoc = self.airfoilWGeo[1]\n",
    "        self.cam = self.airfoilWGeo[2]\n",
    "        self.camLoc = self.airfoilWGeo[3]\n",
    "\n",
    "        self.airfoilT = Tail[1] # Профиль хвостового оперения\n",
    "        self.airfoilTDat = np.loadtxt('{}.txt'.format(self.airfoilT), skiprows = 11, dtype=float)\n",
    "        self.xtopT = self.airfoilTDat[:, 5]\n",
    "        self.xbotT = self.airfoilTDat[:, 6]\n",
    "        self.AOAT = self.airfoilTDat[:, 0] - np.ones(len(self.airfoilTDat[:, 0]))*Tail[-1] * np.cos(self.DihedraTail)\n",
    "        self.fxtopT = interp1d(self.AOAT, self.xtopT) # интерполяционные функции для точки перехода\n",
    "        self.fxbotT = interp1d(self.AOAT, self.xbotT) # от ламинарного к турбулентному течению в зависимости от угла атаки\n",
    "\n",
    "        self.airfoilTGeo = np.loadtxt('{}G.txt'.format(self.airfoilT), skiprows=1, dtype=float)\n",
    "        self.thickT = self.airfoilTGeo[0]\n",
    "        self.thickLocT = self.airfoilTGeo[1]\n",
    "        self.camT = self.airfoilTGeo[2]\n",
    "        self.camLocT = self.airfoilTGeo[3]\n",
    "\n",
    "        self.__GetAirDensity(H)\n",
    "\n",
    "        # Параметры управляющих поверхностей #############################################\n",
    "        # TailData = (type, TailAirfoil, Vht, Vvt, Lt, cf, etaitail, etaetail, itail)\n",
    "        # WingData = (WingAirfoil, S, TR, AR, cr, cf, etai, etae, iw)\n",
    "        self.cfw = WingData[5] # доля хорды крыла на элероны\n",
    "        self.cft = Tail[5] # доля хорды хвосового оперения на rudevator\n",
    "        self.etai = WingData[6]\n",
    "        self.etae = WingData[7]\n",
    "        self.etaiT = Tail[6]\n",
    "        self.etaeT = Tail[7]\n",
    "\n",
    "        # Теоретический наклон кривой подъемного коэфф для профиля в зависимости от толщины\n",
    "        thickness = [0, 0.6, 0.10, 0.14, 0.18, 0.2]\n",
    "        clath = [6.3, 6.59, 6.79, 6.99, 7.19, 7.3]\n",
    "        self.fClath = interp1d(thickness, clath)\n",
    "\n",
    "        # Теоретическое значение dCl/ddelta\n",
    "        thickness02 = [0, 0.04, 0.1, 0.15]\n",
    "        thickness03 = [0, 0.02, 0.04, 0.06, 0.08, 0.1, 0.12, 0.15]\n",
    "        cldth02 = [3.4, 3.55, 3.625, 3.75]\n",
    "        cldth025 = [3.8, 3.875, 4.1, 4.25]\n",
    "        cldth03 = [4.155, 4.229, 4.283, 4.352, 4.406, 4.465, 4.549, 4.609]\n",
    "        \n",
    "        self.Cldelta02 = interp1d(thickness02, cldth02)\n",
    "        self.Cldelta025 = interp1d(thickness02, cldth025)\n",
    "        self.Cldelta03 = interp1d(thickness03, cldth03)\n",
    "        \n",
    "        # Отношение реальной к теоретической dCl/ddelta\n",
    "        Cldeltaratio02 = np.loadtxt('CldeltaRatio02.csv', skiprows=1, dtype=float, delimiter=',')[:, 3] + 0.3\n",
    "        Cldeltaratio025 = np.loadtxt('CldeltaRatio025.csv', skiprows=1, dtype=float, delimiter=',')[:, 3] + 0.3\n",
    "        Cldeltaratio03 = np.loadtxt('CldeltaRatio03.csv', skiprows=1, dtype=float, delimiter=',')[:, 3] + 0.3\n",
    "        claRatio = np.linspace(0.7, 1, 16)\n",
    "\n",
    "        self.CldeltaRatio02 = interp1d(claRatio, Cldeltaratio02)\n",
    "        self.CldeltaRatio025 = interp1d(claRatio, Cldeltaratio025)\n",
    "        self.CldeltaRatio03 = interp1d(claRatio, Cldeltaratio03)\n",
    "\n",
    "        # Коэффициент отклонения рулей для профиля\n",
    "        K02 = np.loadtxt('AirfoilFlapCoeff02.csv', dtype=float, delimiter=',', skiprows=1)[:,3]\n",
    "        K025 = np.loadtxt('AirfoilFlapCoeff025.csv', dtype=float, delimiter=',', skiprows=1)[:,3]\n",
    "        K03 = np.loadtxt('AirfoilFlapCoeff03.csv', dtype=float, delimiter=',', skiprows=1)[:,3]\n",
    "        deflection = np.linspace(0, 40, 9)\n",
    "\n",
    "        self.fK02 = interp1d(deflection, K02)\n",
    "        self.fK025 = interp1d(deflection, K025)\n",
    "        self.fK03 = interp1d(deflection, K03)\n",
    "\n",
    "        # Коэффициент отклонения рулей для секции\n",
    "        Kb = np.loadtxt('KbFlapTR05.csv', delimiter=',', dtype=float, skiprows=1)[:,3]\n",
    "        eta = np.linspace(0, 1, 21)\n",
    "        self.fKb = interp1d(eta, Kb)\n",
    "        ##################################################################################\n",
    "\n",
    "    def __GetAirDensity(self, h):\n",
    "        self.rho = self.__rho0*np.exp(-self.__g * self.__mu * h / (self.__R * self.T))\n",
    "\n",
    "    def GetReynolds(self, type, x = 0):\n",
    "        '''Возвращае число Рейнольдса\n",
    "\n",
    "        \"MeanW\" - для САХ,\n",
    "\n",
    "        \"RootW\" - для корневой хорды,\n",
    "\n",
    "        \"TipW\" - для концевой хорды,\n",
    "\n",
    "        \"LocalW\" - для расстояния x от передней кромки крыла или\n",
    "        фюзеляжа,\n",
    "\n",
    "        \"Fus\" - для фюзеляжа,  \n",
    "\n",
    "        \"RootT\" - для корневой хорды хвоста,\n",
    "\n",
    "        \"TipT\" - для концевой хорды хвоста,\n",
    "\n",
    "        \"MeanT\" - для САХ хвоста\n",
    "\n",
    "        Если число Рейнольдса превышает число Рейнольдса отрыва\n",
    "\n",
    "        Recutoff = 38.21(c/k)**1.053\n",
    "\n",
    "        (см. General Aviation Aircraft Design стр.682, формула (16-31))\n",
    "\n",
    "        для поверхности c характерной норовностью k, то учитывается оно'''\n",
    "        kcomp = 0.2e-5 * 0.3048 # Композит\n",
    "        k3d = 20e-6 # для 3д принтера 20 мкм не обработаная поверхность перпендикулярон слоям\n",
    "    \n",
    "        if type == 'MeanW':\n",
    "            Recoff = 38.21*(self.c/kcomp)**1.053\n",
    "            R = self.rho * self.Va * self.c / self.__visc\n",
    "            if R >= Recoff:\n",
    "                return Recoff\n",
    "            else:\n",
    "                return R \n",
    "            \n",
    "        if type == 'RootW':\n",
    "            Recoff = 38.21*(self.cr/kcomp)**1.053\n",
    "            R = self.rho * self.Va * self.cr / self.__visc\n",
    "            if R >= Recoff:\n",
    "                return Recoff\n",
    "            else:\n",
    "                return R\n",
    "            \n",
    "        if type == 'TipW':\n",
    "            Recoff = 38.21*(self.ct/kcomp)**1.053\n",
    "            R = self.rho * self.Va * self.ct / self.__visc\n",
    "            if R >= Recoff:\n",
    "                return Recoff\n",
    "            else:\n",
    "                return R\n",
    "            \n",
    "        if type == 'Fus':\n",
    "            Recoff = 38.21*(self.L/k3d)**1.053\n",
    "            R = self.rho * self.Va * self.L / self.__visc\n",
    "            if R >= Recoff:\n",
    "                return Recoff\n",
    "            else:\n",
    "                return R\n",
    "        \n",
    "        if type == 'LocalW':\n",
    "            return self.rho * self.Va * x / self.__visc\n",
    "        \n",
    "        if type == 'RootT':\n",
    "            Recoff = 38.21*(self.crtail/k3d)**1.053\n",
    "            R = self.rho * self.Va * self.crtail / self.__visc\n",
    "            if R >= Recoff:\n",
    "                return Recoff\n",
    "            else:\n",
    "                return R \n",
    "            \n",
    "        if type == 'TipT':\n",
    "            Recoff = 38.21*(self.cttail/k3d)**1.053\n",
    "            R = self.rho * self.Va * self.cttail / self.__visc\n",
    "            if R >= Recoff:\n",
    "                return Recoff\n",
    "            else:\n",
    "                return R \n",
    "            \n",
    "        if type == 'MeanT':\n",
    "            Recoff = 38.21*(self.ctail/k3d)**1.053\n",
    "            R = self.rho * self.Va * self.ctail / self.__visc\n",
    "            if R >= Recoff:\n",
    "                return Recoff\n",
    "            else:\n",
    "                return R \n",
    "        \n",
    "    def __GetSkinFriction(self, type, side, AOA):\n",
    "        '''Функция считает коэффициент силы трения в приближении\n",
    "        турбулентного-ламинароного обтекания тела при угле атаки AOA в градусах\n",
    "        \n",
    "        'Fus' - для фюзеляжа,\n",
    "\n",
    "        \"MeanW\" - для САХ,\n",
    "\n",
    "        \"RootW\" - для корневой хорды,\n",
    "\n",
    "        \"TipW\" - для концевой хорды,\n",
    "\n",
    "        \"RootT\" - для корневой хорды хвоста,\n",
    "\n",
    "        \"TipT\" - для концевой хорды хвоста,\n",
    "\n",
    "        \"MeanT\" - для САХ хвоста\n",
    "        '''\n",
    "        Re = self.GetReynolds(type)\n",
    "        if (type[-1] == 'T'):\n",
    "            if side == 'Top':\n",
    "                x0 = 36.9*self.fxtopT(AOA * np.cos(self.DihedraTail))**0.625 * (1/Re)**0.375\n",
    "                return 0.074/(Re**0.2) * (1 - (self.fxtopT(AOA* np.cos(self.DihedraTail)) - x0))**0.8\n",
    "            elif side == 'Bottom':\n",
    "                x0 = 36.9*self.fxbotT(AOA* np.cos(self.DihedraTail))**0.625 * (1/Re)**0.375\n",
    "                return 0.074/(Re**0.2) * (1 - (self.fxbotT(AOA* np.cos(self.DihedraTail)) - x0))**0.8\n",
    "\n",
    "        elif (type[-1] == 'W'):\n",
    "            if side == 'Top':\n",
    "                x0 = 36.9*self.fxtop(AOA)**0.625 * (1/Re)**0.375\n",
    "                return 0.074/(Re**0.2) * (1 - (self.fxtop(AOA) - x0))**0.8\n",
    "            elif side == 'Bottom':\n",
    "                x0 = 36.9*self.fxbot(AOA)**0.625 * (1/Re)**0.375\n",
    "                return 0.074/(Re**0.2) * (1 - (self.fxbot(AOA) - x0))**0.8\n",
    "        else:\n",
    "            x0 = 36.9 * 0.01**0.625 * (1/Re)**0.375\n",
    "            return 0.074/(Re**0.2) * (1 - (0.01 - x0))**0.8\n",
    "\n",
    "    def GetCDmin(self, crud = 1.25, AOA = 0, distr = False):\n",
    "        '''Функция подсчитывает минимальный коэффициент лобового сопротивления для всего самолета\n",
    "        на основе геометрических характеристик крыла, хвостового оперения и фюзеляжа'''\n",
    "        # Сопротивление крыла #################\n",
    "        Ctip = 0.5 * (self.__GetSkinFriction(type='TipW', side='Top', AOA = AOA) + self.__GetSkinFriction(type='TipW', side='Bottom', AOA = AOA))\n",
    "        Croot = 0.5 * (self.__GetSkinFriction(type='RootW', side='Top', AOA = AOA) + self.__GetSkinFriction(type='RootW', side='Bottom', AOA = AOA))\n",
    "        Cfw = 0.5 * (Croot + Ctip)\n",
    "        Cdw = self.__Swet / self.S * Cfw\n",
    "\n",
    "        # if (abs(self.thickLoc - 0.3) <=0.05):\n",
    "        #     FFw = 1 + 2*(self.thick) + 60(self.thick)**4\n",
    "        # elif (self.thickLoc >= 0.4 and self.thickLoc <= 0.5):\n",
    "        #     FFw = 1 + 1.2*(self.thick) + 70(self.thick)**4\n",
    "        FFw = (3.3*(self.thick) - 0.008*(self.thick)**2 + 27*(self.thick)**3)*(np.cos(self.SweepHalf))**2 + 1\n",
    "        IFw = 1.05\n",
    "        Cdw = FFw * Cdw * IFw\n",
    "        #######################################\n",
    "\n",
    "        # Сопротивление фюзеляжа ##############\n",
    "        f = self.L/2 * np.sqrt(4 / self.d**2)\n",
    "        ReF = self.GetReynolds(type='Fus')\n",
    "        IFf = 1.0\n",
    "        if (ReF <= 1e5):\n",
    "            Cdf = 1.328/(ReF)**0.5 * (1 + f**-1.5) + 0.11*f**-2\n",
    "        elif (ReF > 1e5):\n",
    "            FFf1 = 1 + 1.5*f**-1.5 + 7*f**-3\n",
    "            FFf2 = 1 + 2.2*f**-1.5 + 3.8*f**-3\n",
    "\n",
    "            FFf3 = 1 + 60*f**-3 + f/400 #This provides a good correlation for fineness ratios \n",
    "            #(f) above 6 as is typical for high-speed and military aircraft, but \n",
    "            #seems to overestimate drag for fineness ratios much below 5.\n",
    "\n",
    "            FFf4 = 2.939 - 0.7666*f + 0.1328*f**2 - 0.01074*f**3 + 3.275e-4*f**4\n",
    "            FFf5 = 1 + 2.2*f**-1.5 - 0.9*f**-3\n",
    "            FFf6 = 0.9 + 5*f**-1.5 + f/400 # From Raymer\n",
    "\n",
    "            FFf = np.mean([FFf1, FFf2, FFf3, FFf4, FFf5, FFf6])\n",
    "            Cdf = self.__GetSkinFriction(type='Fus', side = 'Top', AOA=AOA) * FFf * (self.FusS) / self.S * IFf\n",
    "        #######################################\n",
    "\n",
    "        # Сопротивление хвостового оперения ##################\n",
    "        Ctiptail = 0.5 * (self.__GetSkinFriction(type='TipT', side='Top', AOA = AOA) + self.__GetSkinFriction(type='TipT', side='Bottom', AOA = AOA))\n",
    "        Croottail = 0.5 * (self.__GetSkinFriction(type='RootT', side='Top', AOA = AOA) + self.__GetSkinFriction(type='RootT', side='Bottom', AOA = AOA))\n",
    "        Cft = 0.5 * (Croottail + Ctiptail)\n",
    "        Cdt = self.__Swettail / self.S * Cft\n",
    "        FFt = (3.3*(self.thickT) - 0.008*(self.thickT)**2 + 27*(self.thickT)**3)*(np.cos(self.SweepHalftail))**2 + 1\n",
    "        IFt = 1.03\n",
    "        Cdt = IFt * Cdt * FFt\n",
    "        ######################################################\n",
    "        if (distr == False):\n",
    "            return (Cdf + Cdw + Cdt)*crud\n",
    "        else:\n",
    "            return (Cdf*crud, Cdw*crud, Cdt*crud)\n",
    "\n",
    "    def GetAirfoilCl(self, AOA, type):\n",
    "        '''Возвращает значение коэффициента подъемной\n",
    "        силы профиля для заданного угла атаки\n",
    "        type = \"Wing\" - для профиля крыла\n",
    "        type = \"Tail\" - для профиля хвоста'''\n",
    "        if (type == \"Wing\"):\n",
    "            alpha = self.AOA\n",
    "            Cl = self.airfoilWDat[:, 1]\n",
    "            fCl = interp1d(alpha, Cl)\n",
    "            return fCl(AOA)\n",
    "        elif (type == \"Tail\"):\n",
    "            alpha = self.AOAT\n",
    "            Cl = self.airfoilTDat[:, 1]\n",
    "            fCl = interp1d(alpha, Cl)\n",
    "            return fCl(AOA * np.cos(self.DihedraTail))\n",
    "    \n",
    "    def GetAirfoilCd(self, AOA, type):\n",
    "        '''Возвращает значение коэффициента силы \n",
    "        лобового сопротивления профиля для заданного угла атаки\n",
    "        type = \"Wing\" - для профиля крыла\n",
    "        type = \"Tail\" - для профиля хвоста'''\n",
    "        if (type == \"Wing\"):\n",
    "            alpha = self.AOA\n",
    "            Cd = self.airfoilWDat[:, 2]\n",
    "            fCd = interp1d(alpha, Cd)\n",
    "            return fCd(AOA)\n",
    "        elif (type == \"Tail\"):\n",
    "            alpha = self.AOAT\n",
    "            Cd = self.airfoilTDat[:, 2]\n",
    "            fCd = interp1d(alpha, Cd)\n",
    "            return fCd(AOA * np.cos(self.DihedraTail))\n",
    "    \n",
    "    def GetAirfoilCd0(self, type):\n",
    "        '''Возвращает значение коэффициента силы \n",
    "        лобового сопротивления профиля для 0 угла атаки\n",
    "        type = \"Wing\" - для профиля крыла\n",
    "        type = \"Tail\" - для профиля хвоста'''\n",
    "        if (type == \"Wing\"):\n",
    "            alpha = self.AOA\n",
    "            Cd = self.airfoilWDat[:, 2]\n",
    "            fCd = interp1d(alpha, Cd)\n",
    "            return fCd(0)\n",
    "        elif (type == \"Tail\"):\n",
    "            alpha = self.AOAT\n",
    "            Cd = self.airfoilTDat[:, 2]\n",
    "            fCd = interp1d(alpha, Cd)\n",
    "            return fCd(0)\n",
    "    \n",
    "    def GetAirfoilCdmin(self, type):\n",
    "        cur = 10\n",
    "        a = 0\n",
    "        if (type == \"Wing\"):\n",
    "            alpha = self.AOA\n",
    "            Cd = self.airfoilWDat[:, 2]\n",
    "            fCd = interp1d(alpha, Cd)\n",
    "            for el in np.linspace(-5, 10, 10000):\n",
    "                if (fCd(el) < cur):\n",
    "                    cur = fCd(el)\n",
    "                    a = el\n",
    "            return (a, cur)\n",
    "        elif (type == \"Tail\"):\n",
    "            alpha = self.AOAT\n",
    "            Cd = self.airfoilTDat[:, 2]\n",
    "            fCd = interp1d(alpha, Cd)\n",
    "            for el in np.linspace(-5, 10, 10000):\n",
    "                if (fCd(el) < cur):\n",
    "                    cur = fCd(el)\n",
    "                    a = el\n",
    "            return (a / self.DihedraTail, cur)\n",
    "    \n",
    "    def GetAirfoilCm(self, AOA, type):\n",
    "        if (type == \"Wing\"):\n",
    "            alpha = self.AOA\n",
    "            Cm = self.airfoilWDat[:, 4]\n",
    "            fCm = interp1d(alpha, Cm)\n",
    "            return fCm(AOA)\n",
    "        elif (type == \"Tail\"):\n",
    "            alpha = self.AOAT\n",
    "            Cm = self.airfoilTDat[:, 4]\n",
    "            fCm = interp1d(alpha, Cm)\n",
    "            return fCm(AOA * np.cos(self.DihedraTail))\n",
    "    \n",
    "    def GetAirfoilClmax(self, type):\n",
    "        curr = 0\n",
    "        a=0\n",
    "        if (type == \"Wing\"):\n",
    "            alpha = self.AOA\n",
    "            Cl = self.airfoilWDat[:, 1]\n",
    "            fCl = interp1d(alpha, Cl)\n",
    "            for el in np.linspace(0, alpha[-1], 10000):\n",
    "                if fCl(el) >= curr:\n",
    "                    curr = fCl(el)\n",
    "                    a = el\n",
    "            return (a, curr)\n",
    "        if (type == \"Tail\"):\n",
    "            alpha = self.AOAT\n",
    "            Cl = self.airfoilTDat[:, 1]\n",
    "            fCl = interp1d(alpha, Cl)\n",
    "            for el in np.linspace(0, alpha[-1], 10000):\n",
    "                if fCl(el) >= curr:\n",
    "                    curr = fCl(el)\n",
    "                    a = el\n",
    "            return (a / self.DihedraTail, curr)\n",
    "    \n",
    "    def GetAirfoilClslope(self, AOA, type):\n",
    "        '''Возвращает наклон кривой подъеного коэффициента\n",
    "        профиля в 1/рад'''\n",
    "        if (type == \"Wing\"):\n",
    "            alpha = self.AOA\n",
    "            Cl = self.airfoilWDat[:, 1]\n",
    "            fCl = interp1d(alpha, Cl)\n",
    "            return (-fCl(AOA) + fCl(AOA + 0.1))/0.1 *180/np.pi\n",
    "        elif (type == \"Tail\"):\n",
    "            alpha = self.AOAT\n",
    "            Cl = self.airfoilTDat[:, 1]\n",
    "            fCl = interp1d(alpha, Cl)\n",
    "            return (-fCl(AOA * self.DihedraTail) + fCl(AOA * self.DihedraTail + 0.1))/0.1 *180/np.pi\n",
    "    \n",
    "    def GetCLmax(self):\n",
    "        '''Возвращает максимально достижимый коэффициент подъемной силы\n",
    "        для крыла заданных размеров'''\n",
    "        return 0.9 * np.cos(self.SweepQuart) * self.GetAirfoilClmax(type='Wing')[1]\n",
    "    \n",
    "    def GetAirfoilCl0(self, type):\n",
    "        '''Возвращает коэффициент подъемной силы профиля\n",
    "        при нулевом угле атаки'''\n",
    "        if (type == 'Wing'):\n",
    "            alpha = self.AOA\n",
    "            Cl = self.airfoilWDat[:, 1]\n",
    "            fCl = interp1d(alpha, Cl)\n",
    "            return fCl(0)\n",
    "        elif (type == 'Tail'):\n",
    "            alpha = self.AOAT\n",
    "            Cl = self.airfoilTDat[:, 1]\n",
    "            fCl = interp1d(alpha, Cl)\n",
    "            return fCl(0)\n",
    "\n",
    "    def GetCL0(self, type):\n",
    "         az = (-1)*self.GetAirfoilCl0(type=type)/self.GetAirfoilClslope(AOA=0, type=type)\n",
    "         return abs(az)*self.GetCLslope(type)\n",
    "\n",
    "    def GetZeroLiftAOA(self):\n",
    "        return (-1)*self.GetAirfoilCl0(type=\"Wing\")/self.GetAirfoilClslope(AOA=0, type=\"Wing\")\n",
    "    \n",
    "    def GetCLcruise(self):\n",
    "        return self.GetCL0('Wing') + self.W/(self.GetDynamicPressure() * self.S) + self.GetCLslope('Wing')*self.GetZeroLiftAOA()\n",
    "    \n",
    "    def GetDynamicPressure(self):\n",
    "        self.__GetAirDensity(self.H)\n",
    "        if self.Va != 0:\n",
    "            return self.rho * self.Va**2 / 2\n",
    "        else:\n",
    "            return self.rho * self.GetCruiseSpeed()**2 / 2\n",
    "    \n",
    "    def GetSpeedSound(self):\n",
    "        return np.sqrt(1.4 * self.__R * self.T/self.__mu)\n",
    "    \n",
    "    def GetCLslope(self, type, AOA=0):\n",
    "        \"\"\"Расчитывает наклон кривой коэффициента подъемной силы\n",
    "        для секции крыла в 1/rad\"\"\"\n",
    "        if (type == 'Wing'):\n",
    "            beta = 1 - (self.Va/self.GetSpeedSound())**2\n",
    "            k = self.GetAirfoilClslope(AOA=AOA, type=type) / (2*np.pi)\n",
    "            x = self.AR/k * (beta**2 + np.tan(self.SweepHalf)**2)**0.5\n",
    "            eta = 0.98\n",
    "            return 2*np.pi*self.AR / (2 + np.sqrt(x**2 + 4))*eta\n",
    "        elif (type == 'Tail'):\n",
    "            beta = 1 - (self.Va/self.GetSpeedSound())**2\n",
    "            k = self.GetAirfoilClslope(AOA=AOA, type=type) / (2*np.pi)\n",
    "            x = self.ART/k * (beta**2 + np.tan(self.SweepHalftail)**2)**0.5\n",
    "            eta = 0.98\n",
    "            return 2*np.pi*self.ART / (2 + np.sqrt(x**2 + 4))*eta\n",
    "    \n",
    "    def GetOsvald(self, type, method = 'A'):\n",
    "        if (type == 'Wing'):\n",
    "            if (method == 'A'):\n",
    "                return 2 / (2 - self.AR + np.sqrt(4 + self.AR**2*(1 + np.tan(self.SweepQuart))))\n",
    "            if (method == 'B'):\n",
    "                r = 0.38 - self.SweepLE * 57.3/3000 + (self.SweepLE * 57.3)**2/15000\n",
    "                u = 0.98\n",
    "                t = self.d / self.b\n",
    "                CDmin = self.GetCDmin()\n",
    "                return 1 / (np.pi*self.AR*r*CDmin + 1 / ((1 + 0.03*t - 2*t**2)*u))\n",
    "        \n",
    "        elif (type == 'Tail'):\n",
    "            if (method == 'A'):\n",
    "                return 2 / (2 - self.ART + np.sqrt(4 + self.ART**2*(1 + np.tan(self.SweepQuarttail))))\n",
    "            if (method == 'B'):\n",
    "                r = 0.38 - self.SweepLEtail * 57.3/3000 + (self.SweepLEtail * 57.3)**2/15000\n",
    "                u = 0.98\n",
    "                t = self.d / self.b\n",
    "                CDmin = self.GetCDmin()\n",
    "                return 1 / (np.pi*self.ART*r*CDmin + 1 / ((1 + 0.03*t - 2*t**2)*u))\n",
    "\n",
    "            \n",
    "    def GetTotalLiftCoefficient(self, AOA, deflecW, deflecT):\n",
    "        CLw = self.GetCL0(\"Wing\") + self.GetCLslope('Wing') * AOA/57.3\n",
    "        CLdeltaw = self.GetCLdelta('Wing', deflecW)\n",
    "        CLt = (self.GetCL0(\"Tail\") + self.GetCLslope('Tail') * AOA/57.3 ) * np.cos(self.DihedraTail)\n",
    "        CLdeltat = self.GetCLdelta('Tail', deflecT)\n",
    "\n",
    "        CLtotal = CLw + CLdeltaw + self.Sht / self.S * (CLt + CLdeltat) # Брать отношение горизонтальной площади или всего хвоста?\n",
    "        return CLtotal\n",
    "    \n",
    "    def GetCLmaxTotal(self):\n",
    "        CLmw = self.GetCLmax()\n",
    "        CLmt = 0.9 * np.cos(self.SweepQuarttail) * self.GetAirfoilClmax(type='Tail')[1] * self.Sht / self.S\n",
    "        return CLmw + CLmt\n",
    "    \n",
    "    def GetStallSpeed(self):\n",
    "        CLm = self.GetCLmaxTotal()\n",
    "        return np.sqrt(2*self.W / (self.rho * self.S * CLm))\n",
    "    \n",
    "    def GetAirfoilCldelta(self, type, deflec):\n",
    "        '''Функция принимает тип (type) поверхности, для которой необходимо\n",
    "        расчитать производную коэфф подъемной силы профиля по отклонению рулей\n",
    "        при заданном отклонении рулей на угол deflec. Положительный \n",
    "        соответствует отколонению рулей вниз\n",
    "        \n",
    "        type = 'Wing' - для крыла,\n",
    "        \n",
    "        type = 'Tail' - для хвостового оперения'''\n",
    "        if (type == 'Wing'):\n",
    "            Clatheory = self.fClath(self.thick)\n",
    "            # claRatio = self.GetAirfoilClslope(AOA=AOA, type=type) / Clatheory\n",
    "            claRatio = 0.85\n",
    "            if (claRatio >1):\n",
    "                claRatio = 1\n",
    "            if (claRatio < 0.7):\n",
    "                claRatio = 0.7\n",
    "\n",
    "            if (abs(self.cfw - 0.2) < 0.025):\n",
    "                CldeltaRatio = self.CldeltaRatio02(claRatio)\n",
    "                Cldeltath = self.Cldelta02(self.thick)\n",
    "                K = self.fK02(abs(deflec))\n",
    "            elif (abs(self.cfw - 0.25) < 0.025):\n",
    "                CldeltaRatio = self.CldeltaRatio025(claRatio)\n",
    "                Cldeltath = self.Cldelta025(self.thick)\n",
    "                K = self.fK025(abs(deflec))\n",
    "            elif (abs(self.cfw - 0.3) < 0.025):\n",
    "                CldeltaRatio = self.CldeltaRatio03(claRatio)\n",
    "                Cldeltath = self.Cldelta03(self.thick)\n",
    "                K = self.fK03(abs(deflec))\n",
    "            return CldeltaRatio * Cldeltath * K * deflec/57.3\n",
    "       \n",
    "            \n",
    "        elif (type == 'Tail'):\n",
    "            Clatheory = self.fClath(self.thickT)\n",
    "            # claRatio = self.GetAirfoilClslope(AOA=AOA, type=type) / Clatheory # из-за нелинейности профиля дает сбои\n",
    "            # заменил на данные из DATCOM для отношения коэфф. подъемной силы профиля\n",
    "            claRatio = 0.85\n",
    "            if (claRatio > 1):\n",
    "                claRatio = 1\n",
    "\n",
    "            if (abs(self.cft - 0.2) < 0.025):\n",
    "                CldeltaRatio = self.CldeltaRatio02(claRatio)\n",
    "                Cldeltath = self.Cldelta02(self.thickT)\n",
    "                K = self.fK02(abs(deflec))\n",
    "            elif (abs(self.cft - 0.25) < 0.025):\n",
    "                CldeltaRatio = self.CldeltaRatio025(claRatio)\n",
    "                Cldeltath = self.Cldelta025(self.thickT)\n",
    "                K = self.fK025(abs(deflec))\n",
    "            elif (abs(self.cft - 0.3) < 0.025):\n",
    "                CldeltaRatio = self.CldeltaRatio03(claRatio)\n",
    "                Cldeltath = self.Cldelta03(self.thickT)\n",
    "                K = self.fK03(abs(deflec))\n",
    "            return CldeltaRatio * Cldeltath * K * deflec/57.3\n",
    "            \n",
    "    def GetCLdelta(self, type, deflec):\n",
    "        deltaCldelta = self.GetAirfoilCldelta(type = type, deflec=deflec)\n",
    "        a = 1.05\n",
    "        b = self.GetCLslope(type) / self.GetAirfoilClslope(type=type, AOA=0)\n",
    "        if (type == 'Tail'):\n",
    "            Kb = self.fKb(self.etaeT) - self.fKb(self.etaiT)\n",
    "            return deltaCldelta * a * b * Kb * np.cos(self.DihedraTail)\n",
    "        else:\n",
    "            Kb = self.fKb(self.etae) - self.fKb(self.etai)\n",
    "            return deltaCldelta * a * b * Kb\n",
    "        \n",
    "    def GetTotalDragCoefficient(self, AOA, deflec):\n",
    "        CD0 = self.GetCDmin()\n",
    "        CDi = (self.GetTotalLiftCoefficient(AOA, deflecW=0, deflecT=0))**2 / (self.AR * self.GetOsvald(type='Wing', method='B') * np.pi)\n",
    "        CDd = 0.006 * deflec\n",
    "        return (CD0 + CDi + CDd)\n",
    "\n",
    "    def GetCm(self, AOA, deflec):\n",
    "        '''Функция подсчитывает коэффициент момента тангажа'''\n",
    "        # Крыло #######################\n",
    "        Cm0w = self.GetAirfoilCm(AOA=0, type='Wing') * ( (self.AR * np.cos(self.SweepQuart)**2) / (self.AR + 2*np.cos(self.SweepQuart)) )\n",
    "        Cm0w += self.GetCL0('Wing')*(self.__hcg - self.__hac)\n",
    "        Cmalphaw = self.GetCLslope('Wing', AOA) * (self.__hcg - self.__hac)\n",
    "        #####################################\n",
    "\n",
    "        # Хвост ###############################\n",
    "        Cm0t = self.GetAirfoilCm(AOA=0, type='Tail') * ( (self.ART * np.cos(self.SweepQuarttail)**2) / (self.ART + 2*np.cos(self.SweepQuarttail)) ) * (self.Sht / self.S) * (self.ctail / self.c)\n",
    "        Ltcg = self.__Lt / self.c + 0.25 - self.__hcg # Плечо хвостового оперения от четверти хорды хвоста до центра тяжести \n",
    "        Cm0t += self.GetCL0('Tail') * (Ltcg) * (self.Sht / self.S)\n",
    "\n",
    "        eta = 0.9 # Ослабление динамического давления у хвоста\n",
    "        dEdalpha = 0.1 #2 * self.GetCLslope('Wing', AOA) / (np.pi * self.AR) # отклонение потока крылом в области у хвостового оперения\n",
    "        Cmalphat = -eta * self.Sht / self.S * Ltcg * self.GetCLslope('Tail', AOA)*(1 - dEdalpha)\n",
    "        if (deflec == 0):\n",
    "            Cmdelatt = 0\n",
    "        else:\n",
    "            Cmdelatt = -self.GetCLdelta('Tail', deflec) / (deflec/57.3) * eta * self.Sht / self.S * Ltcg\n",
    "        ########################################\n",
    "\n",
    "        # Пропеллер ############################\n",
    "        thrust = self.GetTotalDragCoefficient(AOA = 0, deflec=deflec) * self.GetDynamicPressure() * self.S\n",
    "        print(thrust)\n",
    "        Zprop = 0.03\n",
    "        Cm0prop = (-1)*thrust * Zprop / (self.GetDynamicPressure() * self.S * self.c)\n",
    "        ########################################\n",
    "        return Cm0w + Cm0t + Cm0prop + (Cmalphaw + Cmalphat) * (AOA/57.3) + Cmdelatt * (deflec / 57.3)\n",
    "\n",
    "    def GetNeutralPoint(self, AOA):\n",
    "        Ltcg = self.__Lt / self.c + 0.25 - self.__hcg\n",
    "        return self.__hac + 0.9 * self.Sht / self.S * Ltcg * self.GetCLslope('Tail', AOA) / self.GetCLslope('Wing', AOA) * (1 - 0.1)\n",
    "\n",
    "    def PlotWing(self):\n",
    "        '''Функция рисует крыло'''\n",
    "        fig, ax = plt.subplots(1,1, figsize = ((210-45)/25.4,6))\n",
    "        ax.set_xlim(-self.b/2*1.1, self.b/2*1.1 +0.35)\n",
    "        ax.set_ylim(-0.01*self.cr, 1.*self.cr)\n",
    "        ax.set_aspect('equal')\n",
    "        ax.hlines(0, 0, self.d/2, color = 'black')\n",
    "        ax.hlines(self.cr, 0, self.d/2, color='black')\n",
    "        ax.vlines(self.d/2, 0, self.cr, color = 'black', linestyles='--')\n",
    "        ax.plot([self.d/2, self.b/2,], [0, self.cr/2 - self.ct/2], color = 'black')\n",
    "        ax.plot([self.d/2, self.b/2,], [self.cr, self.cr/2 + self.ct/2], color='black')\n",
    "        ax.vlines(self.b/2, self.cr/2 - self.ct/2, self.cr/2 + self.ct/2, color = 'black')\n",
    "        ax.hlines(0, 0, -self.d/2, color = 'black')\n",
    "        ax.hlines(self.cr, 0, -self.d/2, color='black')\n",
    "        ax.vlines(-self.d/2, 0, self.cr, color = 'black', linestyles='--')\n",
    "        ax.plot([-self.d/2, -self.b/2,], [0, self.cr/2 - self.ct/2], color = 'black')\n",
    "        ax.plot([-self.d/2, -self.b/2,], [self.cr, self.cr/2 + self.ct/2], color='black')\n",
    "        ax.vlines(-self.b/2, self.cr/2 - self.ct/2, self.cr/2 + self.ct/2, color = 'black')\n",
    "\n",
    "        hnp = self.GetNeutralPoint(AOA=0)*self.c\n",
    "        ax.scatter(0, hnp, c='y', s = 5, label='ЦД={}'.format(round(hnp, 3)))\n",
    "        ax.scatter(0, self.__hcg * self.c, s = 5, c = 'black', label = 'ЦМ={}'.format(round(self.__hcg * self.c, 3)))\n",
    "        ax.scatter(0, self.c * self.__hac, c = 'r', s = 5, label='АЦ={}'.format(round(self.c * self.__hac, 3)))\n",
    "        ax.legend(loc='upper right', fontsize=7)\n",
    "        ax.set_axis_off()\n",
    "        ax.text(-0.18, -0.05, 'Передняя кромка', size=7)\n",
    "        # plt.savefig('Wing.png', dpi=300, bbox_inches='tight', pad_inches=0.01)\n",
    "\n",
    "S = 0.352\n",
    "WingAirfoil = \"SD7032\"\n",
    "TR = 0.75\n",
    "AR = 8.\n",
    "cr = 0\n",
    "cf = 0.3\n",
    "iw = 1.8 # угол установки крыла\n",
    "etai = 0.5 # координата начала элеронов в ед полуразмаха\n",
    "etae = 1 # координата конца элеронов в ед полуразмаха\n",
    "WingData = (WingAirfoil, S, TR, AR, cr, cf, etai, etae, iw)\n",
    "\n",
    "type = 'V'\n",
    "TailAirfoil = 'NACA0008_300'\n",
    "Vht = 0.6\n",
    "Vvt = 0.04\n",
    "Lt = 0.8\n",
    "itail = 0 # Угол установки хвостового оперения\n",
    "cf = 0.3\n",
    "etaitail = 0.1 # координата начала руля высоты в ед полуразмаха\n",
    "etaetail = 0.9 # координата конца руля высоты в ед полуразмаха\n",
    "TailData = (type, TailAirfoil, Vht, Vvt, Lt, cf, etaitail, etaetail, itail)\n",
    "\n",
    "hcg = 0.4\n",
    "\n",
    "p = UAV(mass = 3.5, V = 18, CGposition = hcg, WingData=WingData, FusWidth=0.2, FusLength= 0.7, Tail = TailData, SweepQuart=True)\n",
    "p.PlotWing()\n",
    "\n",
    "p.GetCm(AOA=0, deflec=0)"
   ]
  },
  {
   "cell_type": "markdown",
   "id": "bdad50e8",
   "metadata": {},
   "source": [
    "#### Кривая коэффициента подъемной силы"
   ]
  },
  {
   "cell_type": "code",
   "execution_count": 205,
   "id": "2b9a60cc",
   "metadata": {},
   "outputs": [
    {
     "data": {
      "text/plain": [
       "np.float64(5.088834081203414)"
      ]
     },
     "execution_count": 205,
     "metadata": {},
     "output_type": "execute_result"
    },
    {
     "data": {
      "image/png": "[encoded data removed]",
      "text/plain": [
       "<Figure size 640x480 with 1 Axes>"
      ]
     },
     "metadata": {},
     "output_type": "display_data"
    }
   ],
   "source": [
    "p = UAV(mass = 3.5, V = 18, CGposition = hcg, WingData=WingData, FusWidth=0.2, FusLength= 0.7, Tail = TailData, SweepQuart=True)\n",
    "a = np.linspace(-5, 10, 20)\n",
    "CL1 = []\n",
    "CL2 = []\n",
    "for el in a:\n",
    "    CL1.append(p.GetTotalLiftCoefficient(AOA = el, deflecW=0, deflecT=0))\n",
    "    CL2.append(p.GetTotalLiftCoefficient(AOA = el, deflecW=20, deflecT=0))\n",
    "plt.scatter(11, p.GetCLmaxTotal())\n",
    "plt.plot(a, CL1, label='d= 0')\n",
    "plt.plot(a, CL2, label='d= 20')\n",
    "plt.plot(p.AOA, p.airfoilWDat[:, 1], label = 'airfoil')\n",
    "plt.plot(a,p.GetCL0('Wing') + p.GetCLslope('Wing')*a/57.3, label = 'wing')\n",
    "plt.legend()\n",
    "(CL1[5] - CL1[6]) / (a[5] - a[6]) * 57.3"
   ]
  },
  {
   "cell_type": "markdown",
   "id": "32e6d423",
   "metadata": {},
   "source": [
    "#### Балансировочная кривая"
   ]
  },
  {
   "cell_type": "code",
   "execution_count": 198,
   "id": "ef2a2ac6",
   "metadata": {},
   "outputs": [
    {
     "name": "stdout",
     "output_type": "stream",
     "text": [
      "-5.818530893493585\n",
      "-5.818530893493585\n",
      "-5.818530893493585\n",
      "-5.818530893493585\n",
      "-5.818530893493585\n",
      "-5.818530893493585\n",
      "-5.818530893493585\n",
      "-5.818530893493585\n",
      "-5.818530893493585\n",
      "-5.818530893493585\n",
      "-5.818530893493585\n",
      "-5.818530893493585\n",
      "-5.818530893493585\n",
      "-5.818530893493585\n",
      "-5.818530893493585\n",
      "-5.818530893493585\n",
      "-5.818530893493585\n",
      "-5.818530893493585\n",
      "-5.818530893493585\n",
      "-5.818530893493585\n",
      "-3.722898893493585\n",
      "-3.722898893493585\n",
      "-3.722898893493585\n",
      "-3.722898893493585\n",
      "-3.722898893493585\n",
      "-3.722898893493585\n",
      "-3.722898893493585\n",
      "-3.722898893493585\n",
      "-3.722898893493585\n",
      "-3.722898893493585\n",
      "-3.722898893493585\n",
      "-3.722898893493585\n",
      "-3.722898893493585\n",
      "-3.722898893493585\n",
      "-3.722898893493585\n",
      "-3.722898893493585\n",
      "-3.722898893493585\n",
      "-3.722898893493585\n",
      "-3.722898893493585\n",
      "-3.722898893493585\n",
      "-1.6272668934935848\n",
      "-1.6272668934935848\n",
      "-1.6272668934935848\n",
      "-1.6272668934935848\n",
      "-1.6272668934935848\n",
      "-1.6272668934935848\n",
      "-1.6272668934935848\n",
      "-1.6272668934935848\n",
      "-1.6272668934935848\n",
      "-1.6272668934935848\n",
      "-1.6272668934935848\n",
      "-1.6272668934935848\n",
      "-1.6272668934935848\n",
      "-1.6272668934935848\n",
      "-1.6272668934935848\n",
      "-1.6272668934935848\n",
      "-1.6272668934935848\n",
      "-1.6272668934935848\n",
      "-1.6272668934935848\n",
      "-1.6272668934935848\n",
      "0.4683651065064151\n",
      "0.4683651065064151\n",
      "0.4683651065064151\n",
      "0.4683651065064151\n",
      "0.4683651065064151\n",
      "0.4683651065064151\n",
      "0.4683651065064151\n",
      "0.4683651065064151\n",
      "0.4683651065064151\n",
      "0.4683651065064151\n",
      "0.4683651065064151\n",
      "0.4683651065064151\n",
      "0.4683651065064151\n",
      "0.4683651065064151\n",
      "0.4683651065064151\n",
      "0.4683651065064151\n",
      "0.4683651065064151\n",
      "0.4683651065064151\n",
      "0.4683651065064151\n",
      "0.4683651065064151\n",
      "2.563997106506415\n",
      "2.563997106506415\n",
      "2.563997106506415\n",
      "2.563997106506415\n",
      "2.563997106506415\n",
      "2.563997106506415\n",
      "2.563997106506415\n",
      "2.563997106506415\n",
      "2.563997106506415\n",
      "2.563997106506415\n",
      "2.563997106506415\n",
      "2.563997106506415\n",
      "2.563997106506415\n",
      "2.563997106506415\n",
      "2.563997106506415\n",
      "2.563997106506415\n",
      "2.563997106506415\n",
      "2.563997106506415\n",
      "2.563997106506415\n",
      "2.563997106506415\n",
      "4.659629106506414\n",
      "4.659629106506414\n",
      "4.659629106506414\n",
      "4.659629106506414\n",
      "4.659629106506414\n",
      "4.659629106506414\n",
      "4.659629106506414\n",
      "4.659629106506414\n",
      "4.659629106506414\n",
      "4.659629106506414\n",
      "4.659629106506414\n",
      "4.659629106506414\n",
      "4.659629106506414\n",
      "4.659629106506414\n",
      "4.659629106506414\n",
      "4.659629106506414\n",
      "4.659629106506414\n",
      "4.659629106506414\n",
      "4.659629106506414\n",
      "4.659629106506414\n",
      "6.755261106506414\n",
      "6.755261106506414\n",
      "6.755261106506414\n",
      "6.755261106506414\n",
      "6.755261106506414\n",
      "6.755261106506414\n",
      "6.755261106506414\n",
      "6.755261106506414\n",
      "6.755261106506414\n",
      "6.755261106506414\n",
      "6.755261106506414\n",
      "6.755261106506414\n",
      "6.755261106506414\n",
      "6.755261106506414\n",
      "6.755261106506414\n",
      "6.755261106506414\n",
      "6.755261106506414\n",
      "6.755261106506414\n",
      "6.755261106506414\n",
      "6.755261106506414\n",
      "8.850893106506415\n",
      "8.850893106506415\n",
      "8.850893106506415\n",
      "8.850893106506415\n",
      "8.850893106506415\n",
      "8.850893106506415\n",
      "8.850893106506415\n",
      "8.850893106506415\n",
      "8.850893106506415\n",
      "8.850893106506415\n",
      "8.850893106506415\n",
      "8.850893106506415\n",
      "8.850893106506415\n",
      "8.850893106506415\n",
      "8.850893106506415\n",
      "8.850893106506415\n",
      "8.850893106506415\n",
      "8.850893106506415\n",
      "8.850893106506415\n",
      "8.850893106506415\n",
      "10.946525106506414\n",
      "10.946525106506414\n",
      "10.946525106506414\n",
      "10.946525106506414\n",
      "10.946525106506414\n",
      "10.946525106506414\n",
      "10.946525106506414\n",
      "10.946525106506414\n",
      "10.946525106506414\n",
      "10.946525106506414\n",
      "10.946525106506414\n",
      "10.946525106506414\n",
      "10.946525106506414\n",
      "10.946525106506414\n",
      "10.946525106506414\n",
      "10.946525106506414\n",
      "10.946525106506414\n",
      "10.946525106506414\n",
      "10.946525106506414\n",
      "10.946525106506414\n"
     ]
    },
    {
     "data": {
      "image/png": "[encoded data removed]",
      "text/plain": [
       "<Figure size 649.606x350 with 1 Axes>"
      ]
     },
     "metadata": {},
     "output_type": "display_data"
    }
   ],
   "source": [
    "fig, ax = plt.subplots(1,1, figsize=((210-45)/25.4,3.5))\n",
    "p = UAV(mass = 3.5, V = 18, CGposition = hcg, WingData=WingData, FusWidth=0.2, FusLength= 0.7, Tail = TailData, SweepQuart=True)\n",
    "a = np.linspace(-10, 11, 20)\n",
    "defl = [-20, -15, -10, -5, 0, 5, 10, 15, 20]\n",
    "cm = []\n",
    "for d in defl:\n",
    "    for el in a:\n",
    "        cm.append(p.GetCm(el, d))\n",
    "    ax.plot(a, cm, color='black')\n",
    "    cm = []    \n",
    "\n",
    "\n",
    "ax.grid('Major')\n",
    "ax.set_xlim(-10, 13)\n",
    "ax.text(9.7, 0.01,r'$\\delta_{e} = -20^{o}$')\n",
    "ax.text(11.2, -0.03,r'$-15^{o}$')\n",
    "ax.text(11.2, -0.07,r'$-10^{o}$')\n",
    "ax.text(11.2, -0.12,r'$-5^{o}$')\n",
    "ax.text(11.7, -0.16,r'$0^{o}$')\n",
    "ax.text(11.7, -0.21,r'$5^{o}$')\n",
    "ax.text(11.7, -0.25,r'$10^{o}$')\n",
    "ax.text(11.7, -0.29,r'$15^{o}$')\n",
    "ax.text(11.7, -0.33,r'$20^{o}$')\n",
    "ax.set_xlabel(r'$\\alpha, ^{o} $')\n",
    "ax.set_ylabel(r'$C_{M}$')\n",
    "plt.savefig('BalanceCurve.png', dpi = 300, bbox_inches = 'tight', pad_inches=0.01)\n",
    "# на расстояние между линиями влияет доля размаха хвостового оперения, занимаемого рулями"
   ]
  },
  {
   "cell_type": "markdown",
   "id": "e90ce12e",
   "metadata": {},
   "source": [
    "#### Прирост коэфф подъемной силы за счет отклонения рулей"
   ]
  },
  {
   "cell_type": "code",
   "execution_count": 6,
   "id": "077848c9",
   "metadata": {},
   "outputs": [
    {
     "data": {
      "text/plain": [
       "(-0.35, 0.35)"
      ]
     },
     "execution_count": 6,
     "metadata": {},
     "output_type": "execute_result"
    },
    {
     "data": {
      "image/png": "[encoded data removed]",
      "text/plain": [
       "<Figure size 649.606x300 with 1 Axes>"
      ]
     },
     "metadata": {},
     "output_type": "display_data"
    }
   ],
   "source": [
    "p = UAV(mass = 3.5, V = 18, CGposition = hcg, WingData=WingData, FusWidth=0.2, FusLength= 0.7, Tail = TailData, SweepQuart=True)\n",
    "dcl = []\n",
    "dclt = []\n",
    "for el in np.linspace(-25, 25, 100):\n",
    "    dcl.append(p.GetCLdelta('Wing', el))\n",
    "    dclt.append(p.GetCLdelta('Tail', el)* np.cos(p.DihedraTail) * p.Sht / p.S)\n",
    "\n",
    "fig, ax = plt.subplots(1,1, figsize=((210-45)/25.4,3))\n",
    "ax.plot(np.linspace(-25, 25, 100), dcl, color = 'black', label = 'Крыло')\n",
    "ax.plot(np.linspace(-25, 25, 100), dclt, '--', color = 'black', label = 'Хвостовое оперение')\n",
    "ax.grid('Major')\n",
    "ax.set_ylabel(r'$\\Delta C_{L}$')\n",
    "ax.set_xlabel(r'$\\delta ^{o}$')\n",
    "ax.legend()\n",
    "ax.set_xlim(-25, 25)\n",
    "ax.set_ylim(-0.35, 0.35)\n",
    "# plt.savefig('LiftIncrementDuetoLiftTailandWing.png', dpi = 300, bbox_inches = 'tight', pad_inches = 0.1)"
   ]
  },
  {
   "cell_type": "markdown",
   "id": "295d0d20",
   "metadata": {},
   "source": [
    "#### Распределение паразитного оспротивления"
   ]
  },
  {
   "cell_type": "code",
   "execution_count": 194,
   "id": "6bc4ef3f",
   "metadata": {},
   "outputs": [
    {
     "data": {
      "text/plain": [
       "(np.float64(0.024124690701147616), np.float64(0.7833647084587821))"
      ]
     },
     "execution_count": 194,
     "metadata": {},
     "output_type": "execute_result"
    },
    {
     "data": {
      "image/png": "[encoded data removed]",
      "text/plain": [
       "<Figure size 984.252x350 with 1 Axes>"
      ]
     },
     "metadata": {},
     "output_type": "display_data"
    }
   ],
   "source": [
    "p = UAV(mass = 3.5, V = 8, CGposition = hcg, WingData=WingData, FusWidth=0.2, FusLength= 0.7, Tail = TailData, SweepQuart=True)\n",
    "Cd0fto, Cd0wto, Cd0tto = p.GetCDmin(distr=True, crud=1.25)\n",
    "inducedDragto = p.GetTotalLiftCoefficient(0, 0, 0)**2 / (p.GetOsvald('Wing', method='B') * np.pi * p.AR) \n",
    "\n",
    "p = UAV(mass = 3.5, V = 18, CGposition = hcg, WingData=WingData, FusWidth=0.2, FusLength= 0.7, Tail = TailData, SweepQuart=True)\n",
    "Cd0f, Cd0w, Cd0t = p.GetCDmin(distr=True, crud=1.25)\n",
    "inducedDrag = p.GetTotalLiftCoefficient(0, 0, 0)**2 / (p.GetOsvald('Wing', method='B') * np.pi * p.AR) \n",
    "\n",
    "fig, ax = plt.subplots(1,1, figsize = ((295-45)/25.4, 3.5))\n",
    "labels = ['Круиз 18 м/с', 'Взлет 8 м/c']\n",
    "Drag = {\n",
    "    'Фюзеляж': np.array([round(Cd0f,3), round(Cd0fto,3)]),\n",
    "    'Крыло': np.array([round(Cd0w,3), round(Cd0wto,3)]),\n",
    "    'Хвостовое оперение': np.array([round(Cd0t,3), round(Cd0tto,3)]),\n",
    "    'Индуцированное': np.array([round(inducedDrag,3), round(inducedDragto,3)])\n",
    "}\n",
    "width = 0.4 \n",
    "bottom = np.zeros(2)\n",
    "hatches = ['/', '\\\\', '|', '-', 'xx']\n",
    "i = 0\n",
    "for comp, num in Drag.items():\n",
    "    i+=1\n",
    "    x = ax.bar(labels, num, width, label=comp, bottom=bottom, hatch=hatches[i], fill=False)\n",
    "    bottom += num\n",
    "\n",
    "    ax.bar_label(x, label_type='center', color='black', size=13,)\n",
    "    \n",
    "ax.legend(loc='center', fontsize=12)\n",
    "ax.set_ylabel(r'$C_{D}$')\n",
    "# plt.savefig('DragDistributionTO.png', dpi=300, bbox_inches = 'tight', pad_inches = 0.01)\n",
    "p.GetCDmin(), p.GetOsvald(type = 'Wing',method='B')"
   ]
  },
  {
   "cell_type": "markdown",
   "id": "e0a95cd3",
   "metadata": {},
   "source": [
    "#### Зависимость индуцированного сопроивления и паразитного от скорости"
   ]
  },
  {
   "cell_type": "code",
   "execution_count": 195,
   "id": "9d15a1e6",
   "metadata": {},
   "outputs": [
    {
     "data": {
      "text/plain": [
       "np.float64(340.20838428886486)"
      ]
     },
     "execution_count": 195,
     "metadata": {},
     "output_type": "execute_result"
    },
    {
     "data": {
      "image/png": "[encoded data removed]",
      "text/plain": [
       "<Figure size 984.252x400 with 2 Axes>"
      ]
     },
     "metadata": {},
     "output_type": "display_data"
    }
   ],
   "source": [
    "inD = []\n",
    "Cd0 = []\n",
    "Cpara = []\n",
    "for v in np.linspace(7, 25, 100):\n",
    "    p = UAV(mass = 3.5, V = v, CGposition = hcg, WingData=WingData, FusWidth=0.2, FusLength= 0.7, Tail = TailData, SweepQuart=True)\n",
    "    Cd0.append(p.GetCDmin() * p.GetDynamicPressure() * p.S)\n",
    "    Cpara.append(p.GetCDmin())\n",
    "    inducedDrag = p.W**2 / (p.GetDynamicPressure() * np.pi * p.b**2 * p.GetOsvald(type='Wing', method='B'))\n",
    "    inD.append(inducedDrag)\n",
    "\n",
    "fig, ax = plt.subplots(1,2, figsize = ((295-45)/25.4, 4))\n",
    "ax = ax.ravel()\n",
    "ax[0].plot(np.linspace(10, 25, 100), Cd0, '--', label = 'Трение', color='black')\n",
    "ax[0].plot(np.linspace(10, 25, 100), inD, '-.',label = 'Индуцированное', color='black')\n",
    "ax[0].plot(np.linspace(10, 25, 100), np.array(inD) + np.array(Cd0), label = 'Полное сопротивление', color='black')\n",
    "ax[0].set_ylim(0, 3.5)\n",
    "ax[0].set_xlim(10, 25)\n",
    "ax[0].grid()\n",
    "ax[0].set_xlabel(r'$V_{a}$, м/с')\n",
    "ax[0].set_ylabel(r'$F_{x}$, H')\n",
    "# ax[0].set_title('Зависимость силы лобового сопротивления от воздушной скорости')\n",
    "ax[0].legend()\n",
    "ax[1].plot(np.linspace(7, 25, 100), Cpara, color='black')\n",
    "ax[1].set_xlabel('V, м/с')\n",
    "ax[1].set_ylabel(r'$С_{D_{0}}$')\n",
    "# plt.savefig('Drag(V).png', dpi=300, bbox_inches = 'tight', pad_inches = 0.01)\n",
    "p.GetSpeedSound()"
   ]
  },
  {
   "cell_type": "markdown",
   "id": "cfef445d",
   "metadata": {},
   "source": [
    "### Модель коэффициента подъемной силы\n",
    "$$C_L = C_{L_{0}} + C_{L_{\\alpha}}\\alpha + C_{L_{\\delta_{e}}}\\delta_{e} + C_{L_{q}}\\frac{c}{2v_a}q$$"
   ]
  },
  {
   "cell_type": "markdown",
   "id": "4d24ac08",
   "metadata": {},
   "source": [
    "#### Наклон кривой коэффициента подъемной силы $C_{L_{\\alpha}}$\n",
    "![.](LiftCurveSlope.jpg)\n",
    "![.](LiftCurveSlopeRaymer.jpg)"
   ]
  },
  {
   "cell_type": "markdown",
   "id": "63690c96",
   "metadata": {},
   "source": [
    "#### Угол атаки нулевой подъемной силы\n",
    "\n",
    "![.](ZeroLiftCoef.jpg)"
   ]
  },
  {
   "cell_type": "markdown",
   "id": "54487c76",
   "metadata": {},
   "source": [
    "#### Коэффициент эффективности Освальда\n",
    "\n",
    "![.](OsvaldEfficiency.jpg)"
   ]
  },
  {
   "cell_type": "markdown",
   "id": "ed8628d2",
   "metadata": {},
   "source": [
    "#### Требуемый коэффициент подъемной силы при заданной скорости полета и массе ЛА\n",
    "\n",
    "![.](CruiseLiftCoefficient.jpg)\n"
   ]
  },
  {
   "cell_type": "markdown",
   "id": "ca2a04f8",
   "metadata": {},
   "source": [
    "#### Приращение коэф подъемной силы профиля при отклонении управляющих поверхностей\n",
    "![.](PlainFlapAirfoilLiftIncrement.png)"
   ]
  },
  {
   "cell_type": "markdown",
   "id": "6c57166a",
   "metadata": {},
   "source": [
    "#### Приращение коэф подъемной силы крыла при отклонении управляющих поверхностей\n",
    "![.](PlainFlapWingLiftIncrement.png)"
   ]
  },
  {
   "cell_type": "markdown",
   "id": "9d33815e",
   "metadata": {},
   "source": [
    "### Модель коэффициента лобового сопротивления\n",
    "$$C_D = C_{D_{0}} + C_{D{\\alpha}}\\alpha + C_{D_{\\delta_{e}}}\\delta_{e} + C_{D_{q}}\\frac{c}{2v_a}q$$\n",
    "Для более точной оценки лобового сопротивления в зависимости от угла атаки и геометрических характеристик ЛА используем дополненную квадратичную модель коэффициента лобового сопроивления\n",
    "$$C_{D_{0}} + C_{D_{\\alpha}}\\alpha = C_{D}(\\alpha) = C_{D_{0}} + C_{D_{i}} = C_{D_{0}} + \\frac{(C_{L}(\\alpha) - C_{LmD})^{2}}{\\pi e AR}$$\n",
    "где $C_{D_{0}}$ - паразитное сопроивление, $C_{D_{i}}$ - индуцированное сопротивление засчет подъемной силы, $e$ - коэффициент эффективности Освальда\n",
    "$$C_{D_{\\alpha}} = \\frac{\\partial C_{D}(\\alpha)}{\\partial \\alpha} = \\frac{2}{\\pi e AR}(C_{L_{0}} + C_{L_{\\alpha}}\\alpha - C_{LmD})C_{L_{\\alpha}}$$\n",
    "$$C_{D_{0}} = (C_{D_{add}} + \\frac{1}{S}(\\sum_{i}(C_{f_{i}} \\times FF_{i} \\times S_{wet_{i}} \\times IF_{i})))k_{crud}$$\n",
    "где $C_{f}$ - коэффициент сил трения\n",
    "\n",
    "$FF (Form factor)$ - множитель, учитывающий форму обтекаемого тела (крыла, фюзеляжа)\n",
    "\n",
    "$S_{wet}$ - полная площадь поверхности тела, которая обтекается воздухом\n",
    "\n",
    "$IF (Interference factor)$ - множитель, учитывающий взаимное расположение и влияние элементов на друг друга \n",
    "\n",
    "$C_{D_{add}}$ - дополнительный коэффициент сопротивления за счет элементов конструкции, не являющихся крылом или фюзеляжем, например, подвесных конструкций на крыле\n",
    "\n",
    "$k_{crud}$ (Cumulative Result of Undesirable\n",
    " Drag) - множитель, учитывающий неидеальность конструкции, отличие расчетных форм поверхностей от действительных\n",
    "\n",
    "Суммирирование производится по всем рассматриваемым элементам: крыло, фюзеляж, хвостовое оперение"
   ]
  },
  {
   "cell_type": "markdown",
   "id": "7833ffef",
   "metadata": {},
   "source": [
    "#### Оценка паразитного сопротивления $C_{D_{0}}$\n",
    "![.](CdminEstimationAlgorithm.jpg)"
   ]
  },
  {
   "cell_type": "markdown",
   "id": "3f2bec8f",
   "metadata": {},
   "source": [
    "#### Фактор взаимодействия элементов конструкции между собой\n",
    "![.](InterferenceFactor.jpg)"
   ]
  },
  {
   "cell_type": "markdown",
   "id": "b6ad0054",
   "metadata": {},
   "source": [
    "#### Неровность поверхности материала\n",
    "\n",
    "Если понимать данные в таблице, как характерный размер неровностей на поверхности материала, то для детали изготовленной на 3Д принере-  ?\n",
    "![.](SurfaceRoughness.jpg)"
   ]
  },
  {
   "cell_type": "markdown",
   "id": "d7ae6c1b",
   "metadata": {},
   "source": [
    "#### CRUD $k_{crud}$\n",
    "![.](CRUDfactor.jpg)"
   ]
  },
  {
   "cell_type": "markdown",
   "id": "4dd6bb1c",
   "metadata": {},
   "source": [
    "#### Коэффициент силы трения для профиля крыла, хвостового оперения\n",
    "![.](SkinFrictionCoef.jpg)"
   ]
  },
  {
   "cell_type": "markdown",
   "id": "3ecf5001",
   "metadata": {},
   "source": [
    "## Модель коэффициента момента тангажа\n",
    "$$C_{m} = C_{m_{0}} + C_{m_{\\alpha}}\\alpha + C_{m_{\\delta_{e}}}\\delta_{e} + C_{m_{q}}\\frac{c}{2V_{a}}q$$"
   ]
  },
  {
   "cell_type": "markdown",
   "id": "d21b4d1b",
   "metadata": {},
   "source": [
    "#### Общий вид ЛА и обозначений для статической устойчивости\n",
    "![.](GenerPlaneView.png)"
   ]
  },
  {
   "cell_type": "markdown",
   "id": "3d64ef61",
   "metadata": {},
   "source": [
    "#### Коэффициент момента тангажа для крыла\n",
    "![.](WingPitchingMoment.png)"
   ]
  },
  {
   "cell_type": "code",
   "execution_count": 9,
   "id": "1ba6a09a",
   "metadata": {},
   "outputs": [
    {
     "data": {
      "text/markdown": [
       "$ S_w = 0.38 $"
      ]
     },
     "metadata": {},
     "output_type": "display_data"
    }
   ],
   "source": [
    "m = 3.5 #масса ЛА\n",
    "v_a = 18 #средняя ветровая скорость\n",
    "C_L = 0.45 #коэффициент подъёмной силы для профиля SD7032\n",
    "pho = 1.225\n",
    "g = 9.81\n",
    "\n",
    "q = pho*(v_a**2)/2\n",
    "S_w = m*g/(q*C_L)\n",
    "\n",
    "dm(md(f\"$ S_w = {round(S_w, 2)} $\"))"
   ]
  },
  {
   "cell_type": "code",
   "execution_count": 10,
   "id": "403516f0",
   "metadata": {},
   "outputs": [
    {
     "data": {
      "text/markdown": [
       "$b_w = 1.6, C_w = 0.23$"
      ]
     },
     "metadata": {},
     "output_type": "display_data"
    }
   ],
   "source": [
    "#ИНИЦИАЛИЗАЦИЯ\n",
    "C_R = 0.25 #корневая хорда крыла\n",
    "C_e = 0.2 #концевая хорда крыла\n",
    "TR_w = C_e/C_R #сужение крыла\n",
    "AR_w = 7 #удлинение крыла\n",
    "d = 0.2 # длина центроплана\n",
    "\n",
    "#РАСЧЁТ\n",
    "C_m = 0.5*(C_R+C_e) #полусумма оснований\n",
    "b_w = AR_w*(C_m + np.sqrt(C_m**2 - 4*d*(C_m-C_R)/AR_w))/2 #размах крыла\n",
    "C_w = b_w/AR_w #средняя хорда крыла (из b_w)\n",
    "\n",
    "#ВЫВОД\n",
    "dm(md(f\"$b_w = {round(b_w, 2)}, C_w = {round(C_w, 2)}$\"))"
   ]
  },
  {
   "cell_type": "code",
   "execution_count": 11,
   "id": "02e6e969",
   "metadata": {},
   "outputs": [],
   "source": [
    "#ИНИЦИАЛИЗАЦИЯ\n",
    "c_HT = 0.5\n",
    "c_VT = 0.02\n",
    "L = 0.525\n",
    "\n",
    "#РАСЧЁТ\n",
    "S_VT = 0.5*c_VT*b_w*S_w/L\n",
    "TS_HT = c_HT*C_w*S_w/L \n",
    "\n",
    "#ВЫВОД\n",
    "# dm(md(f\"$S_{{VT}} =  {round(S_VT,3)}$\"))\n",
    "# dm(md(f\"$S_{{HT}} =  {round(S_HT,3)}$\"))"
   ]
  },
  {
   "cell_type": "code",
   "execution_count": 12,
   "id": "afcd55d8",
   "metadata": {},
   "outputs": [
    {
     "ename": "NameError",
     "evalue": "name 'S_HT' is not defined",
     "output_type": "error",
     "traceback": [
      "\u001b[1;31m---------------------------------------------------------------------------\u001b[0m",
      "\u001b[1;31mNameError\u001b[0m                                 Traceback (most recent call last)",
      "Cell \u001b[1;32mIn [12], line 6\u001b[0m\n\u001b[0;32m      2\u001b[0m AR_t \u001b[38;5;241m=\u001b[39m \u001b[38;5;241m3\u001b[39m \u001b[38;5;66;03m#удлинение хвостового оперения\u001b[39;00m\n\u001b[0;32m      4\u001b[0m \u001b[38;5;66;03m#РАСЧЁТ\u001b[39;00m\n\u001b[0;32m      5\u001b[0m \u001b[38;5;66;03m#средние хорды вертикального и горизонтального оперений\u001b[39;00m\n\u001b[1;32m----> 6\u001b[0m C_HT \u001b[38;5;241m=\u001b[39m np\u001b[38;5;241m.\u001b[39msqrt(\u001b[43mS_HT\u001b[49m\u001b[38;5;241m/\u001b[39mAR_t)\n\u001b[0;32m      7\u001b[0m C_VT \u001b[38;5;241m=\u001b[39m np\u001b[38;5;241m.\u001b[39msqrt(S_VT\u001b[38;5;241m/\u001b[39mAR_t)\n\u001b[0;32m      8\u001b[0m \u001b[38;5;66;03m#размахи вертикального и горизонтального оперений\u001b[39;00m\n",
      "\u001b[1;31mNameError\u001b[0m: name 'S_HT' is not defined"
     ]
    }
   ],
   "source": [
    "#ИНИЦИАЛИЗАЦИЯ\n",
    "AR_t = 3 #удлинение хвостового оперения\n",
    "\n",
    "#РАСЧЁТ\n",
    "#средние хорды вертикального и горизонтального оперений\n",
    "C_HT = np.sqrt(S_HT/AR_t)\n",
    "C_VT = np.sqrt(S_VT/AR_t)\n",
    "#размахи вертикального и горизонтального оперений\n",
    "b_HT = S_HT/C_HT\n",
    "b_VT = S_VT/C_VT\n",
    "#ВЫВОД\n",
    "dm(md(f\"$C_{{VT}} =  {round(C_VT,3)}$\"))\n",
    "dm(md(f\"$C_{{HT}} =  {round(C_HT,3)}$\"))\n",
    "dm(md(f\"$b_{{VT}} =  {round(b_VT,3)}$\"))\n",
    "dm(md(f\"$b_{{HT}} =  {round(b_HT,3)}$\"))\n",
    "# print(\"b_VT = \", round(b_VT,3))\n",
    "# print(\"C_HT = \", round(C_HT,3))\n",
    "# print(\"b_HT = \", round(b_HT,3))"
   ]
  },
  {
   "cell_type": "code",
   "execution_count": null,
   "id": "f9deab55",
   "metadata": {},
   "outputs": [
    {
     "ename": "NameError",
     "evalue": "name 'b_VT' is not defined",
     "output_type": "error",
     "traceback": [
      "\u001b[1;31m---------------------------------------------------------------------------\u001b[0m",
      "\u001b[1;31mNameError\u001b[0m                                 Traceback (most recent call last)",
      "Cell \u001b[1;32mIn [11], line 5\u001b[0m\n\u001b[0;32m      1\u001b[0m \u001b[38;5;66;03m#ИНИЦИАЛИЗАЦИЯ\u001b[39;00m\n\u001b[0;32m      2\u001b[0m \n\u001b[0;32m      3\u001b[0m \u001b[38;5;66;03m#РАСЧЁТ\u001b[39;00m\n\u001b[0;32m      4\u001b[0m \u001b[38;5;66;03m#угол наклона лопатки относительно горизонтальной плоскости\u001b[39;00m\n\u001b[1;32m----> 5\u001b[0m theta \u001b[38;5;241m=\u001b[39m np\u001b[38;5;241m.\u001b[39marctan(\u001b[43mb_VT\u001b[49m\u001b[38;5;241m/\u001b[39mb_HT)\n\u001b[0;32m      6\u001b[0m S_T \u001b[38;5;241m=\u001b[39m S_HT\u001b[38;5;241m/\u001b[39mnp\u001b[38;5;241m.\u001b[39mcos(theta) \u001b[38;5;66;03m#площадь лопатки V_tail\u001b[39;00m\n\u001b[0;32m      8\u001b[0m \u001b[38;5;66;03m#ВЫВОД\u001b[39;00m\n",
      "\u001b[1;31mNameError\u001b[0m: name 'b_VT' is not defined"
     ]
    }
   ],
   "source": [
    "#ИНИЦИАЛИЗАЦИЯ\n",
    "\n",
    "#РАСЧЁТ\n",
    "#угол наклона лопатки относительно горизонтальной плоскости\n",
    "theta = np.arctan(b_VT/b_HT)\n",
    "S_T = S_HT/np.cos(theta) #площадь лопатки V_tail\n",
    "\n",
    "#ВЫВОД\n",
    "dm(md(f\"$\\\\theta = {round(theta*360/(2*np.pi), 2)}\\\\degree$\"))\n",
    "dm(md(f\"$S_T = {round(S_T, 3)}$\"))"
   ]
  },
  {
   "cell_type": "code",
   "execution_count": null,
   "id": "0fc7fb86",
   "metadata": {},
   "outputs": [
    {
     "ename": "NameError",
     "evalue": "name 'b_HT' is not defined",
     "output_type": "error",
     "traceback": [
      "\u001b[1;31m---------------------------------------------------------------------------\u001b[0m",
      "\u001b[1;31mNameError\u001b[0m                                 Traceback (most recent call last)",
      "Cell \u001b[1;32mIn [12], line 3\u001b[0m\n\u001b[0;32m      1\u001b[0m \u001b[38;5;66;03m#ИНИЦИАЛИЗАЦИЯ\u001b[39;00m\n\u001b[0;32m      2\u001b[0m TR_t \u001b[38;5;241m=\u001b[39m \u001b[38;5;241m0.5\u001b[39m \u001b[38;5;66;03m#сужение для хвостового оперения\u001b[39;00m\n\u001b[1;32m----> 3\u001b[0m b_T \u001b[38;5;241m=\u001b[39m \u001b[43mb_HT\u001b[49m\u001b[38;5;241m/\u001b[39m\u001b[38;5;241m2\u001b[39m \u001b[38;5;66;03m#длина лопатки\u001b[39;00m\n\u001b[0;32m      5\u001b[0m \u001b[38;5;66;03m#РАСЧЁТ\u001b[39;00m\n\u001b[0;32m      6\u001b[0m \u001b[38;5;66;03m#средняя, корневая и концевая хорды лопаток V-tail\u001b[39;00m\n\u001b[0;32m      7\u001b[0m c \u001b[38;5;241m=\u001b[39m np\u001b[38;5;241m.\u001b[39msqrt(S_T\u001b[38;5;241m/\u001b[39mAR_t)\n",
      "\u001b[1;31mNameError\u001b[0m: name 'b_HT' is not defined"
     ]
    }
   ],
   "source": [
    "#ИНИЦИАЛИЗАЦИЯ\n",
    "TR_t = 0.5 #сужение для хвостового оперения\n",
    "b_T = b_HT/2 #длина лопатки\n",
    "\n",
    "#РАСЧЁТ\n",
    "#средняя, корневая и концевая хорды лопаток V-tail\n",
    "c = np.sqrt(S_T/AR_t)\n",
    "c_r = c/0.75\n",
    "c_e = 0.5*c_r\n",
    "\n",
    "#ВЫВОД\n",
    "dm(md(f\"$c = {round(c, 3)}$\"))\n",
    "dm(md(f\"$c_r = {round(c_r, 3)}$\"))\n",
    "dm(md(f\"$c_e = {round(c_e, 3)}$\"))"
   ]
  },
  {
   "cell_type": "code",
   "execution_count": null,
   "id": "5c6346a4",
   "metadata": {},
   "outputs": [
    {
     "data": {
      "text/markdown": [
       "$C_{L\\alpha} =  5.463 , SD7032$"
      ]
     },
     "metadata": {},
     "output_type": "display_data"
    }
   ],
   "source": [
    "df = pd.read_csv('SD7032 C_L.csv', delimiter = '\\t')\n",
    "alpha = df['alpha'] #угол атаки в градусах\n",
    "CL = df['CL']\n",
    "start = 13\n",
    "stop = 67\n",
    "t_approx = np.polyfit(alpha[start:stop], CL[start:stop], 1)\n",
    "f_approx = np.poly1d(t_approx)[1]*360/(2*np.pi) #тангенс угла наклона линейной части поляры крыла C_l(alpha)\n",
    "C_L_alpha = 0.9*f_approx #коэффициент при первой степени разложения коэффициента подъёмной силы по альфа  \n",
    "dm(md(f\"$C_{{L\\\\alpha}} =  {round(C_L_alpha,3)} , SD7032$\"))\n"
   ]
  },
  {
   "cell_type": "code",
   "execution_count": null,
   "id": "5b7a8a0e",
   "metadata": {},
   "outputs": [
    {
     "data": {
      "text/markdown": [
       "$C_{L\\alpha} =  7.428, NACA0009$"
      ]
     },
     "metadata": {},
     "output_type": "display_data"
    }
   ],
   "source": [
    "df1 = pd.read_csv('xf-n0009sm-il-500000.csv', delimiter = ',')\n",
    "alpha = df1['Alpha'] #угол атаки в градусах\n",
    "CL = df1['Cl']\n",
    "start = 40\n",
    "stop = 68\n",
    "t_approx = np.polyfit(alpha[start:stop], CL[start:stop], 1)\n",
    "f_approx = np.poly1d(t_approx)[1]*360/(2*np.pi) #тангенс угла наклона линейной части поляры крыла C_l(alpha)\n",
    "C_L_alpha1 = 0.9*f_approx #коэффициент при первой степени разложения коэффициента подъёмной силы по альфа  \n",
    "dm(md(f\"$C_{{L\\\\alpha}} =  {round(C_L_alpha1,3)}, NACA0009$\"))"
   ]
  },
  {
   "cell_type": "code",
   "execution_count": null,
   "id": "68f33b38",
   "metadata": {},
   "outputs": [
    {
     "ename": "NameError",
     "evalue": "name 'C_L_alpha1' is not defined",
     "output_type": "error",
     "traceback": [
      "\u001b[1;31m---------------------------------------------------------------------------\u001b[0m",
      "\u001b[1;31mNameError\u001b[0m                                 Traceback (most recent call last)",
      "Cell \u001b[1;32mIn [13], line 2\u001b[0m\n\u001b[0;32m      1\u001b[0m M \u001b[38;5;241m=\u001b[39m q\u001b[38;5;241m*\u001b[39mS_w\u001b[38;5;241m*\u001b[39mC_L\n\u001b[1;32m----> 2\u001b[0m C1 \u001b[38;5;241m=\u001b[39m \u001b[43mC_L_alpha1\u001b[49m\n\u001b[0;32m      3\u001b[0m varphi \u001b[38;5;241m=\u001b[39m np\u001b[38;5;241m.\u001b[39msqrt(M\u001b[38;5;241m/\u001b[39m(q\u001b[38;5;241m*\u001b[39mL\u001b[38;5;241m*\u001b[39mS_w\u001b[38;5;241m*\u001b[39mC1\u001b[38;5;241m*\u001b[39m\u001b[38;5;241m2\u001b[39m)) \u001b[38;5;66;03m#угол установки\u001b[39;00m\n\u001b[0;32m      4\u001b[0m X_cp \u001b[38;5;241m=\u001b[39m S_T\u001b[38;5;241m*\u001b[39mC1\u001b[38;5;241m*\u001b[39mL\u001b[38;5;241m*\u001b[39m\u001b[38;5;241m0.9\u001b[39m\u001b[38;5;241m/\u001b[39m(S_w\u001b[38;5;241m*\u001b[39mC_L_alpha)\n",
      "\u001b[1;31mNameError\u001b[0m: name 'C_L_alpha1' is not defined"
     ]
    }
   ],
   "source": [
    "M = q*S_w*C_L\n",
    "C1 = C_L_alpha1\n",
    "varphi = np.sqrt(M/(q*L*S_w*C1*2)) #угол установки\n",
    "X_cp = S_T*C1*L*0.9/(S_w*C_L_alpha)\n",
    "dm(md(f\"$\\\\varphi = {round(varphi*360/(2*np.pi), 1)} \\\\degree$\"))\n",
    "dm(md(f\"$X_{{c.p}} = {round(X_cp , 3)}$\"))"
   ]
  },
  {
   "cell_type": "code",
   "execution_count": null,
   "id": "d583ef9b",
   "metadata": {},
   "outputs": [
    {
     "data": {
      "text/markdown": [
       "$ S_w = 0.38 $"
      ]
     },
     "metadata": {},
     "output_type": "display_data"
    },
    {
     "data": {
      "text/markdown": [
       "$b_w = 1.6, C_w = 0.23$"
      ]
     },
     "metadata": {},
     "output_type": "display_data"
    },
    {
     "data": {
      "text/markdown": [
       "$S_{VT} =  0.012$"
      ]
     },
     "metadata": {},
     "output_type": "display_data"
    },
    {
     "data": {
      "text/markdown": [
       "$S_{HT} =  0.083$"
      ]
     },
     "metadata": {},
     "output_type": "display_data"
    },
    {
     "data": {
      "text/markdown": [
       "$C_{VT} =  0.062$"
      ]
     },
     "metadata": {},
     "output_type": "display_data"
    },
    {
     "data": {
      "text/markdown": [
       "$C_{HT} =  0.167$"
      ]
     },
     "metadata": {},
     "output_type": "display_data"
    },
    {
     "data": {
      "text/markdown": [
       "$b_{VT} =  0.187$"
      ]
     },
     "metadata": {},
     "output_type": "display_data"
    },
    {
     "data": {
      "text/markdown": [
       "$b_{HT} =  0.5$"
      ]
     },
     "metadata": {},
     "output_type": "display_data"
    },
    {
     "data": {
      "text/markdown": [
       "$\\theta = 20.51\\degree$"
      ]
     },
     "metadata": {},
     "output_type": "display_data"
    },
    {
     "data": {
      "text/markdown": [
       "$S_T = 0.089$"
      ]
     },
     "metadata": {},
     "output_type": "display_data"
    },
    {
     "data": {
      "text/markdown": [
       "$c = 0.172$"
      ]
     },
     "metadata": {},
     "output_type": "display_data"
    },
    {
     "data": {
      "text/markdown": [
       "$c_r = 0.23$"
      ]
     },
     "metadata": {},
     "output_type": "display_data"
    },
    {
     "data": {
      "text/markdown": [
       "$c_e = 0.115$"
      ]
     },
     "metadata": {},
     "output_type": "display_data"
    },
    {
     "data": {
      "text/markdown": [
       "$C_{L\\alpha} =  5.463 , SD7032$"
      ]
     },
     "metadata": {},
     "output_type": "display_data"
    },
    {
     "data": {
      "text/markdown": [
       "$C_{L\\alpha} =  7.428, NACA0009$"
      ]
     },
     "metadata": {},
     "output_type": "display_data"
    },
    {
     "data": {
      "text/markdown": [
       "$X_{c.p} = 0.149$"
      ]
     },
     "metadata": {},
     "output_type": "display_data"
    },
    {
     "data": {
      "text/markdown": [
       "$\\varphi = 13.8 \\degree$"
      ]
     },
     "metadata": {},
     "output_type": "display_data"
    }
   ],
   "source": [
    "#РЕЗУЛЬТАТЫ\n",
    "dm(md(f\"$ S_w = {round(S_w, 2)} $\"))\n",
    "dm(md(f\"$b_w = {round(b_w, 2)}, C_w = {round(C_w, 2)}$\"))\n",
    "dm(md(f\"$S_{{VT}} =  {round(S_VT,3)}$\"))\n",
    "dm(md(f\"$S_{{HT}} =  {round(S_HT,3)}$\"))\n",
    "dm(md(f\"$C_{{VT}} =  {round(C_VT,3)}$\"))\n",
    "dm(md(f\"$C_{{HT}} =  {round(C_HT,3)}$\"))\n",
    "dm(md(f\"$b_{{VT}} =  {round(b_VT,3)}$\"))\n",
    "dm(md(f\"$b_{{HT}} =  {round(b_HT,3)}$\"))\n",
    "dm(md(f\"$\\\\theta = {round(theta*360/(2*np.pi), 2)}\\\\degree$\"))\n",
    "dm(md(f\"$S_T = {round(S_T, 3)}$\"))\n",
    "dm(md(f\"$c = {round(c, 3)}$\"))\n",
    "dm(md(f\"$c_r = {round(c_r, 3)}$\"))\n",
    "dm(md(f\"$c_e = {round(c_e, 3)}$\"))\n",
    "dm(md(f\"$C_{{L\\\\alpha}} =  {round(C_L_alpha,3)} , SD7032$\"))\n",
    "dm(md(f\"$C_{{L\\\\alpha}} =  {round(C_L_alpha1,3)}, NACA0009$\"))\n",
    "dm(md(f\"$X_{{c.p}} = {round(X_cp , 3)}$\"))\n",
    "dm(md(f\"$\\\\varphi = {round(varphi*360/(2*np.pi), 1)} \\\\degree$\"))"
   ]
  },
  {
   "cell_type": "markdown",
   "id": "9efb27f2",
   "metadata": {},
   "source": [
    "$$C_{x_{i}} = \\frac{C_{y}^2}{\\lambda \\pi e}$$\n",
    "\n",
    "$\\lambda$ - удлинение\n",
    "\n",
    "Тогда сила сопротивления индуцированная\n",
    "\n",
    "$$F_{x_{i}} = C_{x_{i}}  \\frac{\\rho V^2}{2}  S = \\frac{C_{y}^2}{\\lambda \\pi e}  \\frac{\\rho V^2}{2}S$$\n",
    "\n",
    "Eсли $C_{y}$ - фиксированное, то по параболе со скоростью растет\n",
    "\n",
    "Вторая формула для индуцированного сопротивления\n",
    "\n",
    "$$F_{x_{i}} = \\frac{2W^2}{\\rho V^2 \\pi b^2 e}$$\n",
    "\n",
    "При фиксированном весе и размахе спадает со скоростью"
   ]
  }
 ],
 "metadata": {
  "kernelspec": {
   "display_name": "Python 3",
   "language": "python",
   "name": "python3"
  },
  "language_info": {
   "codemirror_mode": {
    "name": "ipython",
    "version": 3
   },
   "file_extension": ".py",
   "mimetype": "text/x-python",
   "name": "python",
   "nbconvert_exporter": "python",
   "pygments_lexer": "ipython3",
   "version": "3.10.7"
  }
 },
 "nbformat": 4,
 "nbformat_minor": 5
}
