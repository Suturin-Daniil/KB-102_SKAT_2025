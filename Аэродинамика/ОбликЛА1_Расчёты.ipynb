{
 "cells": [
  {
   "cell_type": "code",
   "execution_count": 72,
   "id": "07c1ba9e",
   "metadata": {},
   "outputs": [],
   "source": [
    "from IPython.display import Markdown as md\n",
    "from IPython.display import display_markdown as dm\n",
    "import numpy as np\n",
    "from numpy.linalg import norm\n",
    "# import pandas as pd\n",
    "import matplotlib.pyplot as plt\n",
    "import sympy as smp\n",
    "import scipy as scp\n",
    "from scipy.interpolate import interp1d"
   ]
  },
  {
   "cell_type": "code",
   "execution_count": 180,
   "id": "fa3bd2dc",
   "metadata": {},
   "outputs": [
    {
     "data": {
      "text/plain": [
       "(np.float64(0.34750523800476757), np.float64(0.4943310657596372))"
      ]
     },
     "execution_count": 180,
     "metadata": {},
     "output_type": "execute_result"
    }
   ],
   "source": [
    "class UAV:\n",
    "    __rho0 = 1.225\n",
    "    rho = __rho0\n",
    "    __g = 9.81\n",
    "    __mu = 0.0289644\n",
    "    __R = 8.3144598\n",
    "    T = 273 + 15\n",
    "    __visc = 18e-6\n",
    "    def __init__(self, mass, V, WingData, FusWidth, FusLength, Tail, cr=0, SweepQuart = True, H = 0):\n",
    "        self.Va = V\n",
    "        self.H = H\n",
    "        self.__mass = mass\n",
    "        self.W = self.__mass * self.__g\n",
    "        self.S = WingData[1]\n",
    "        self.d = FusWidth\n",
    "        self.L = FusLength\n",
    "        self.FusS = 0.3 # Надо изменить \n",
    "\n",
    "        self.__Ttype = Tail[0] # тип хвостового оперения \n",
    "        self.__Vht = Tail[2] # объемные коэффициенты хвостового оперения\n",
    "        self.__Vvt = Tail[3]\n",
    "        self.__Lt = Tail[4] # длина балки хвостового оперения (плечо хвоста)\n",
    "        self.ART = 2 # Удлинение хвоствого оперения \n",
    "        self.TRT = 0.6 # сужение хвостового оперения\n",
    "\n",
    "        # Расчет размера крыла ###############################################\n",
    "        if (cr == 0):\n",
    "            self.AR = WingData[3]\n",
    "            self.TR = WingData[2]\n",
    "            self.c = np.sqrt(self.S/self.AR)\n",
    "            self.b = self.S/self.c\n",
    "            self.cr = self.S / (self.d + (1 + self.TR)*(self.b - self.d)/2)\n",
    "            self.ct = self.cr * self.TR\n",
    "\n",
    "        elif (cr != 0):\n",
    "            self.AR = WingData[3]\n",
    "            self.cr = WingData[4]\n",
    "            self.c = np.sqrt(self.S/self.AR)\n",
    "            self.b = self.S/self.c\n",
    "            self.ct = 2*(self.S - self.cr*self.d)/(self.b - self.d) - self.cr\n",
    "            self.TR = self.ct/self.cr\n",
    "            if (self.TR >= 1):\n",
    "                self.TR = 1\n",
    "                self.c = np.sqrt(self.S/self.AR)\n",
    "                self.ct = self.c\n",
    "                self.cr = self.ct\n",
    "\n",
    "        ex = np.array([1., 0])\n",
    "        ey = np.array([0, 1.])\n",
    "        if (SweepQuart == False):\n",
    "            a = 3/4*self.cr * ex + ey * 0.5 * (self.b - self.d) + ex*1/4*self.ct - ex*self.cr\n",
    "            b = 3/4*self.cr * ex + ey * 0.5 * (self.b - self.d) - ex * 3/4*self.ct\n",
    "            e = b + ex*0.5*self.ct\n",
    "    \n",
    "            self.SweepLE = np.acos(np.dot(ey, a) / (norm(a) * norm(ey)))\n",
    "            self.SweepTE = np.acos(np.dot(ey, b) / (norm(b) * norm(ey)))\n",
    "\n",
    "            self.SweepHalf = np.acos(np.dot(ey, e - ex*0.5*self.cr) / (norm(e - ex*0.5*self.cr) * norm(ey)))\n",
    "            self.SweepQuart = 0\n",
    "        elif (SweepQuart == True):\n",
    "            self.SweepLE = np.atan((self.cr - self.ct) / (self.b - self.d))\n",
    "            self.SweepQuart = np.tan(self.SweepLE) + self.cr*0.5/(self.b - self.d) * (self.TR - 1)\n",
    "            self.SweepHalf = 0\n",
    "\n",
    "        self.__Swet = 2*self.S - 2 * (self.d * self.cr)\n",
    "        #########################################################################################\n",
    "\n",
    "        # Расчет размера хвоствого оперения #####################################################\n",
    "        Sht = self.__Vht * self.c * self.S / self.__Lt\n",
    "        Svt = self.__Vvt * self.b * self.S / self.__Lt\n",
    "        if (self.__Ttype == 'V'):\n",
    "            self.Stail = Sht + Svt\n",
    "            self.DihedraTail = np.atan(Svt/Sht) # rad\n",
    "        self.btail = np.sqrt(self.Stail / 2 * self.ART)\n",
    "        self.ctail = self.btail / self.ART\n",
    "        self.crtail = 2 * self.ctail / (1 + self.TRT)\n",
    "        self.cttail = self.TRT * self.crtail\n",
    "\n",
    "        self.SweepLEtail = np.atan((self.crtail - self.cttail) / self.btail)\n",
    "        self.SweepQuarttail = np.atan( 3 * (self.crtail - self.cttail) / (4 * self.btail))\n",
    "        self.SweepHalftail = np.atan( (-self.cttail + self.crtail) / (2 * self.btail) )\n",
    "\n",
    "        self.__Swettail = self.Stail * 2 # Полная площадь хвостового оперения\n",
    "        #########################################################################################\n",
    "\n",
    "        self.airfoilW = WingData[0]\n",
    "        self.airfoilWDat = np.loadtxt('{}.txt'.format(self.airfoilW), skiprows = 11, dtype=float)\n",
    "        self.xtop = self.airfoilWDat[:, 5]\n",
    "        self.xbot = self.airfoilWDat[:, 6]\n",
    "        self.AOA = self.airfoilWDat[:, 0] - np.ones(len(self.airfoilWDat[:, 0]))*WingData[6] \n",
    "        self.fxtop = interp1d(self.AOA, self.xtop) # интерполяционные функции для точки перехода\n",
    "        self.fxbot = interp1d(self.AOA, self.xbot) # от ламинарного к турбулентному течению в зависимости от угла атаки\n",
    "\n",
    "        self.airfoilWGeo = np.loadtxt('{}G.txt'.format(self.airfoilW), skiprows=1, dtype=float)\n",
    "        self.thick = self.airfoilWGeo[0]\n",
    "        self.thickLoc = self.airfoilWGeo[1]\n",
    "        self.cam = self.airfoilWGeo[2]\n",
    "        self.camLoc = self.airfoilWGeo[3]\n",
    "\n",
    "        self.airfoilT = Tail[1] # Профиль хвостового оперения\n",
    "        self.airfoilTDat = np.loadtxt('{}.txt'.format(self.airfoilT), skiprows = 11, dtype=float)\n",
    "        self.xtopT = self.airfoilTDat[:, 5]\n",
    "        self.xbotT = self.airfoilTDat[:, 6]\n",
    "        self.AOAT = self.airfoilTDat[:, 0] - np.ones(len(self.airfoilTDat[:, 0]))*Tail[6] * np.cos(self.DihedraTail)\n",
    "        self.fxtopT = interp1d(self.AOAT, self.xtopT) # интерполяционные функции для точки перехода\n",
    "        self.fxbotT = interp1d(self.AOAT, self.xbotT) # от ламинарного к турбулентному течению в зависимости от угла атаки\n",
    "\n",
    "        self.airfoilTGeo = np.loadtxt('{}G.txt'.format(self.airfoilT), skiprows=1, dtype=float)\n",
    "        self.thickT = self.airfoilTGeo[0]\n",
    "        self.thickLocT = self.airfoilTGeo[1]\n",
    "        self.camT = self.airfoilTGeo[2]\n",
    "        self.camLocT = self.airfoilTGeo[3]\n",
    "\n",
    "        self.__GetAirDensity(H)\n",
    "\n",
    "    def __GetAirDensity(self, h):\n",
    "        self.rho = self.__rho0*np.exp(-self.__g * self.__mu * h / (self.__R * self.T))\n",
    "\n",
    "    def GetReynolds(self, type, x = 0):\n",
    "        '''Возвращае число Рейнольдса\n",
    "\n",
    "        \"MeanW\" - для САХ,\n",
    "\n",
    "        \"RootW\" - для корневой хорды,\n",
    "\n",
    "        \"TipW\" - для концевой хорды,\n",
    "\n",
    "        \"LocalW\" - для расстояния x от передней кромки крыла или\n",
    "        фюзеляжа,\n",
    "\n",
    "        \"Fus\" - для фюзеляжа,  \n",
    "\n",
    "        \"RootT\" - для корневой хорды хвоста,\n",
    "\n",
    "        \"TipT\" - для концевой хорды хвоста,\n",
    "\n",
    "        \"MeanT\" - для САХ хвоста\n",
    "\n",
    "        Если число Рейнольдса превышает число Рейнольдса отрыва\n",
    "\n",
    "        Recutoff = 38.21(c/k)**1.053\n",
    "\n",
    "        (см. General Aviation Aircraft Design стр.682, формула (16-31))\n",
    "\n",
    "        для поверхности c характерной норовностью k, то учитывается оно'''\n",
    "        kcomp = 0.2e-5 * 0.3048 # Композит\n",
    "        k3d = 20e-6 # для 3д принтера 20 мкм не обработаная поверхность перпендикулярон слоям\n",
    "    \n",
    "        if type == 'MeanW':\n",
    "            Recoff = 38.21*(self.c/kcomp)**1.053\n",
    "            R = self.rho * self.Va * self.c / self.__visc\n",
    "            if R >= Recoff:\n",
    "                return Recoff\n",
    "            else:\n",
    "                return R \n",
    "            \n",
    "        if type == 'RootW':\n",
    "            Recoff = 38.21*(self.cr/kcomp)**1.053\n",
    "            R = self.rho * self.Va * self.cr / self.__visc\n",
    "            if R >= Recoff:\n",
    "                return Recoff\n",
    "            else:\n",
    "                return R\n",
    "            \n",
    "        if type == 'TipW':\n",
    "            Recoff = 38.21*(self.ct/kcomp)**1.053\n",
    "            R = self.rho * self.Va * self.ct / self.__visc\n",
    "            if R >= Recoff:\n",
    "                return Recoff\n",
    "            else:\n",
    "                return R\n",
    "            \n",
    "        if type == 'Fus':\n",
    "            Recoff = 38.21*(self.L/k3d)**1.053\n",
    "            R = self.rho * self.Va * self.L / self.__visc\n",
    "            if R >= Recoff:\n",
    "                return Recoff\n",
    "            else:\n",
    "                return R\n",
    "        \n",
    "        if type == 'LocalW':\n",
    "            return self.rho * self.Va * x / self.__visc\n",
    "        \n",
    "        if type == 'RootT':\n",
    "            Recoff = 38.21*(self.crtail/kcomp)**1.053\n",
    "            R = self.rho * self.Va * self.crtail / self.__visc\n",
    "            if R >= Recoff:\n",
    "                return Recoff\n",
    "            else:\n",
    "                return R \n",
    "            \n",
    "        if type == 'TipT':\n",
    "            Recoff = 38.21*(self.cttail/kcomp)**1.053\n",
    "            R = self.rho * self.Va * self.cttail / self.__visc\n",
    "            if R >= Recoff:\n",
    "                return Recoff\n",
    "            else:\n",
    "                return R \n",
    "            \n",
    "        if type == 'MeanT':\n",
    "            Recoff = 38.21*(self.ctail/kcomp)**1.053\n",
    "            R = self.rho * self.Va * self.ctail / self.__visc\n",
    "            if R >= Recoff:\n",
    "                return Recoff\n",
    "            else:\n",
    "                return R \n",
    "        \n",
    "    def __GetSkinFriction(self, type, side, AOA):\n",
    "        '''Функция считает коэффициент силы трения в приближении\n",
    "        турбулентного-ламинароного обтекания тела при угле атаки AOA в градусах\n",
    "        \n",
    "        'Fus' - для фюзеляжа,\n",
    "\n",
    "        \"MeanW\" - для САХ,\n",
    "\n",
    "        \"RootW\" - для корневой хорды,\n",
    "\n",
    "        \"TipW\" - для концевой хорды,\n",
    "\n",
    "        \"RootT\" - для корневой хорды хвоста,\n",
    "\n",
    "        \"TipT\" - для концевой хорды хвоста,\n",
    "\n",
    "        \"MeanT\" - для САХ хвоста\n",
    "        '''\n",
    "        Re = self.GetReynolds(type)\n",
    "        if (type[-1] == 'T'):\n",
    "            if side == 'Top':\n",
    "                x0 = 36.9*self.fxtopT(AOA * np.cos(self.DihedraTail))**0.625 * (1/Re)**0.375\n",
    "                return 0.074/(Re**0.2) * (1 - (self.fxtopT(AOA* np.cos(self.DihedraTail)) - x0))**0.8\n",
    "            elif side == 'Bottom':\n",
    "                x0 = 36.9*self.fxbotT(AOA* np.cos(self.DihedraTail))**0.625 * (1/Re)**0.375\n",
    "                return 0.074/(Re**0.2) * (1 - (self.fxbotT(AOA* np.cos(self.DihedraTail)) - x0))**0.8\n",
    "\n",
    "        elif (type != 'Fus'):\n",
    "            if side == 'Top':\n",
    "                x0 = 36.9*self.fxtop(AOA)**0.625 * (1/Re)**0.375\n",
    "                return 0.074/(Re**0.2) * (1 - (self.fxtop(AOA) - x0))**0.8\n",
    "            elif side == 'Bottom':\n",
    "                x0 = 36.9*self.fxbot(AOA)**0.625 * (1/Re)**0.375\n",
    "                return 0.074/(Re**0.2) * (1 - (self.fxbot(AOA) - x0))**0.8\n",
    "        else:\n",
    "            x0 = 36.9 * 0.05**0.625 * (1/Re)**0.375\n",
    "            return 0.074/(Re**0.2) * (1 - (0.05 - x0))**0.8\n",
    "\n",
    "    def GetCDmin(self, crud = 1.25, AOA = 0):\n",
    "        '''Функция подсчитывает минимальный коэффициент лобового сопротивления для всего самолета\n",
    "        на основе геометрических характеристик крыла, хвостового оперения и фюзеляжа'''\n",
    "        # Сопротивление крыла #################\n",
    "        Ctip = 0.5 * (self.__GetSkinFriction(type='TipW', side='Top', AOA = AOA) + self.__GetSkinFriction(type='TipW', side='Bottom', AOA = AOA))\n",
    "        Croot = 0.5 * (self.__GetSkinFriction(type='RootW', side='Top', AOA = AOA) + self.__GetSkinFriction(type='RootW', side='Bottom', AOA = AOA))\n",
    "        Cfw = 0.5 * (Croot + Ctip)\n",
    "        Cdw = self.__Swet / self.S * Cfw\n",
    "\n",
    "        # if (abs(self.thickLoc - 0.3) <=0.05):\n",
    "        #     FFw = 1 + 2*(self.thick) + 60(self.thick)**4\n",
    "        # elif (self.thickLoc >= 0.4 and self.thickLoc <= 0.5):\n",
    "        #     FFw = 1 + 1.2*(self.thick) + 70(self.thick)**4\n",
    "        FFw = (3.3*(self.thick) - 0.008*(self.thick)**2 + 27*(self.thick)**3)*(np.cos(self.SweepHalf))**2 + 1\n",
    "        IFw = 1.05\n",
    "        Cdw = FFw * Cdw * IFw\n",
    "        #######################################\n",
    "\n",
    "        # Сопротивление фюзеляжа ##############\n",
    "        f = self.L/2 * np.sqrt(4 / self.d**2)\n",
    "        ReF = self.GetReynolds(type='Fus')\n",
    "        if (ReF <= 1e5):\n",
    "            Cdf = 1.328/(ReF)**0.5 * (1 + f**-1.5) + 0.11*f**-2\n",
    "        elif (ReF > 1e5):\n",
    "            FFf1 = 1 + 1.5*f**-1.5 + 7*f**-3\n",
    "            FFf2 = 1 + 2.2*f**-1.5 + 3.8*f**-3\n",
    "\n",
    "            FFf3 = 1 + 60*f**-3 + f/400 #This provides a good correlation for fineness ratios \n",
    "            #(f) above 6 as is typical for high-speed and military aircraft, but \n",
    "            #seems to overestimate drag for fineness ratios much below 5.\n",
    "\n",
    "            FFf4 = 2.939 - 0.7666*f + 0.1328*f**2 - 0.01074*f**3 + 3.275e-4*f**4\n",
    "            FFf5 = 1 + 2.2*f**-1.5 - 0.9*f**-3\n",
    "            FFf6 = 0.9 + 5*f**-1.5 + f/400 # From Raymer\n",
    "\n",
    "            FFf = np.mean([FFf1, FFf2, FFf3, FFf4, FFf5, FFf6])\n",
    "        IFf = 1.0\n",
    "        Cdf = self.__GetSkinFriction(type='Fus', side = 'Top', AOA=AOA) * FFf * (self.FusS) / self.S * IFf\n",
    "        #######################################\n",
    "\n",
    "        # Сопротивление хвостового оперения ##################\n",
    "        Ctiptail = 0.5 * (self.__GetSkinFriction(type='TipT', side='Top', AOA = AOA) + self.__GetSkinFriction(type='TipT', side='Bottom', AOA = AOA))\n",
    "        Croottail = 0.5 * (self.__GetSkinFriction(type='RootT', side='Top', AOA = AOA) + self.__GetSkinFriction(type='RootT', side='Bottom', AOA = AOA))\n",
    "        Cft = 0.5 * (Croottail + Ctiptail)\n",
    "        Cdt = self.__Swettail / self.S * Cft\n",
    "        FFt = (3.3*(self.thickT) - 0.008*(self.thickT)**2 + 27*(self.thickT)**3)*(np.cos(self.SweepHalftail))**2 + 1\n",
    "        IFt = 1.03\n",
    "        Cdt = IFt * Cdt * FFt\n",
    "        ######################################################\n",
    "\n",
    "        return (Cdf + Cdw + Cdt)*crud\n",
    "\n",
    "    def GetAirfoilCl(self, AOA, type):\n",
    "        '''Возвращает значение коэффициента подъемной\n",
    "        силы профиля для заданного угла атаки\n",
    "        type = \"Wing\" - для профиля крыла\n",
    "        type = \"Tail\" - для профиля хвоста'''\n",
    "        if (type == \"Wing\"):\n",
    "            alpha = self.AOA\n",
    "            Cl = self.airfoilWDat[:, 1]\n",
    "            fCl = interp1d(alpha, Cl)\n",
    "            return fCl(AOA)\n",
    "        elif (type == \"Tail\"):\n",
    "            alpha = self.airfoilTDat[:, 0]\n",
    "            Cl = self.airfoilTDat[:, 1]\n",
    "            fCl = interp1d(alpha, Cl)\n",
    "            return fCl(AOA * np.cos(self.DihedraTail))\n",
    "    \n",
    "    def GetAirfoilCd(self, AOA, type):\n",
    "        '''Возвращает значение коэффициента силы \n",
    "        лобового сопротивления профиля для заданного угла атаки\n",
    "        type = \"Wing\" - для профиля крыла\n",
    "        type = \"Tail\" - для профиля хвоста'''\n",
    "        if (type == \"Wing\"):\n",
    "            alpha = self.AOA\n",
    "            Cd = self.airfoilWDat[:, 2]\n",
    "            fCd = interp1d(alpha, Cd)\n",
    "            return fCd(AOA)\n",
    "        elif (type == \"Tail\"):\n",
    "            alpha = self.airfoilTDat[:, 0]\n",
    "            Cd = self.airfoilTDat[:, 2]\n",
    "            fCd = interp1d(alpha, Cd)\n",
    "            return fCd(AOA * np.cos(self.DihedraTail))\n",
    "    \n",
    "    def GetAirfoilCd0(self, type):\n",
    "        '''Возвращает значение коэффициента силы \n",
    "        лобового сопротивления профиля для 0 угла атаки\n",
    "        type = \"Wing\" - для профиля крыла\n",
    "        type = \"Tail\" - для профиля хвоста'''\n",
    "        if (type == \"Wing\"):\n",
    "            alpha = self.AOA\n",
    "            Cd = self.airfoilWDat[:, 2]\n",
    "            fCd = interp1d(alpha, Cd)\n",
    "            return fCd(0)\n",
    "        elif (type == \"Tail\"):\n",
    "            alpha = self.airfoilTDat[:, 0] * np.cos(self.DihedraTail)\n",
    "            Cd = self.airfoilTDat[:, 2]\n",
    "            fCd = interp1d(alpha, Cd)\n",
    "            return fCd(0)\n",
    "    \n",
    "    def GetAirfoilCdmin(self, type):\n",
    "        cur = 10\n",
    "        a = 0\n",
    "        if (type == \"Wing\"):\n",
    "            alpha = self.AOA\n",
    "            Cd = self.airfoilWDat[:, 2]\n",
    "            fCd = interp1d(alpha, Cd)\n",
    "            for el in np.linspace(-5, 10, 10000):\n",
    "                if (fCd(el) < cur):\n",
    "                    cur = fCd(el)\n",
    "                    a = el\n",
    "            return (a, cur)\n",
    "        elif (type == \"Tail\"):\n",
    "            alpha = self.airfoilTDat[:, 0] * np.cos(self.DihedraTail)\n",
    "            Cd = self.airfoilTDat[:, 2]\n",
    "            fCd = interp1d(alpha, Cd)\n",
    "            for el in np.linspace(-5, 10, 10000):\n",
    "                if (fCd(el) < cur):\n",
    "                    cur = fCd(el)\n",
    "                    a = el\n",
    "            return (a, cur)\n",
    "    \n",
    "    def GetAirfoilCm(self, AOA, type):\n",
    "        if (type == \"Wing\"):\n",
    "            alpha = self.AOA\n",
    "            Cm = self.airfoilWDat[:, 4]\n",
    "            fCm = interp1d(alpha, Cm)\n",
    "            return fCm(AOA)\n",
    "        elif (type == \"Tail\"):\n",
    "            alpha = self.airfoilTDat[:, 0]\n",
    "            Cm = self.airfoilTDat[:, 4]\n",
    "            fCm = interp1d(alpha, Cm)\n",
    "            return fCm(AOA * np.cos(self.DihedraTail))\n",
    "    \n",
    "    def GetAirfoilClmax(self, type):\n",
    "        curr = 0\n",
    "        a=0\n",
    "        if (type == \"Wing\"):\n",
    "            alpha = self.AOA\n",
    "            Cl = self.airfoilWDat[:, 1]\n",
    "            fCl = interp1d(alpha, Cl)\n",
    "            for el in np.linspace(0, alpha[-1], 10000):\n",
    "                if fCl(el) >= curr:\n",
    "                    curr = fCl(el)\n",
    "                    a = el\n",
    "            return (a, curr)\n",
    "        if (type == \"Tail\"):\n",
    "            alpha = self.airfoilTDat[:, 0] * np.cos(self.DihedraTail)\n",
    "            Cl = self.airfoilTDat[:, 1]\n",
    "            fCl = interp1d(alpha, Cl)\n",
    "            for el in np.linspace(0, alpha[-1], 10000):\n",
    "                if fCl(el) >= curr:\n",
    "                    curr = fCl(el)\n",
    "                    a = el\n",
    "            return (a, curr)\n",
    "    \n",
    "    def GetAirfoilClslope(self, AOA, type):\n",
    "        '''Возвращает наклон кривой подъеного коэффициента\n",
    "        профиля в 1/рад'''\n",
    "        if (type == \"Wing\"):\n",
    "            alpha = self.AOA\n",
    "            Cl = self.airfoilWDat[:, 1]\n",
    "            fCl = interp1d(alpha, Cl)\n",
    "            return (-fCl(AOA) + fCl(AOA + 0.5))/0.5 *180/np.pi\n",
    "        elif (type == \"Tail\"):\n",
    "            alpha = self.airfoilTDat[:, 0] * np.cos(self.DihedraTail)\n",
    "            Cl = self.airfoilTDat[:, 1]\n",
    "            fCl = interp1d(alpha, Cl)\n",
    "            return (-fCl(AOA) + fCl(AOA + 0.5))/0.5 *180/np.pi\n",
    "    \n",
    "    def GetCLmax(self):\n",
    "        '''Возвращает максимально достижимый коэффициент подъемной силы\n",
    "        для крыла заданных размеров'''\n",
    "        return 0.9 * np.cos(self.SweepQuart) * self.GetAirfoilClmax(type='Wing')[1]\n",
    "    \n",
    "    def GetAirfoilCl0(self, type):\n",
    "        '''Возвращает коэффициент подъемной силы профиля\n",
    "        при нулевом угле атаки'''\n",
    "        if (type == 'Wing'):\n",
    "            alpha = self.AOA\n",
    "            Cl = self.airfoilWDat[:, 1]\n",
    "            fCl = interp1d(alpha, Cl)\n",
    "            return fCl(0)\n",
    "        elif (type == 'Tail'):\n",
    "            alpha = self.AOAT * np.cos(self.DihedraTail)\n",
    "            Cl = self.airfoilTDat[:, 1]\n",
    "            fCl = interp1d(alpha, Cl)\n",
    "            return fCl(0)\n",
    "\n",
    "    def GetCL0(self, type):\n",
    "         az = (-1)*self.GetAirfoilCl0(type=type)/self.GetAirfoilClslope(AOA=0, type=type)\n",
    "         return abs(az)*self.GetCLslope(type)\n",
    "\n",
    "    def GetZeroLiftAOA(self):\n",
    "        return (-1)*self.GetAirfoilCl0(type=\"Wing\")/self.GetAirfoilClslope(AOA=0, type=\"Wing\")\n",
    "    \n",
    "    def GetCLcruise(self):\n",
    "        return self.GetCL0('Wing') + self.W/(self.GetDynamicPressure() * self.S) + self.GetCLslope('Wing')*self.GetZeroLiftAOA()\n",
    "    \n",
    "    def GetDynamicPressure(self):\n",
    "        self.__GetAirDensity(self.H)\n",
    "        if self.Va != 0:\n",
    "            return self.rho * self.Va**2 / 2\n",
    "        else:\n",
    "            return self.rho * self.GetCruiseSpeed()**2 / 2\n",
    "    \n",
    "    def GetSpeedSound(self):\n",
    "        return np.sqrt(1.4 * self.__R * self.T/self.__mu)\n",
    "    \n",
    "    def GetCLslope(self, type):\n",
    "        \"\"\"Расчитывает наклон кривой коэффициента подъемной силы\n",
    "        для секции крыла в 1/rad\"\"\"\n",
    "        if (type == 'Wing'):\n",
    "            beta = 1 - (self.Va/self.GetSpeedSound())**2\n",
    "            k = self.GetAirfoilClslope(AOA=0, type=type) / (2*np.pi)\n",
    "            x = self.AR/k * (beta**2 + np.tan(self.SweepHalf)**2)**0.5\n",
    "            eta = 0.98\n",
    "            return 2*np.pi*self.AR / (2 + np.sqrt(x**2 + 4))*eta\n",
    "        elif (type == 'Tail'):\n",
    "            beta = 1 - (self.Va/self.GetSpeedSound())**2\n",
    "            k = self.GetAirfoilClslope(AOA=0, type=type) / (2*np.pi)\n",
    "            x = self.ART/k * (beta**2 + np.tan(self.SweepHalftail)**2)**0.5\n",
    "            eta = 0.98\n",
    "            return 2*np.pi*self.ART / (2 + np.sqrt(x**2 + 4))*eta\n",
    "    \n",
    "    def GetOsvald(self, method = 'A'):\n",
    "        if (method == 'A'):\n",
    "            return 2 / (2 - self.AR + np.sqrt(4 + self.AR**2*(1 + np.tan(self.SweepQuart))))\n",
    "        if (method == 'B'):\n",
    "            r = 0.38 - self.SweepLE * 57.3/3000 + (self.SweepLE * 57.3)**2/15000\n",
    "            u = 0.98\n",
    "            t = self.d / self.b\n",
    "            CDmin = self.GetCDmin()\n",
    "            return 1 / (np.pi*self.AR*r*CDmin + 1 / ((1 + 0.03*t - 2*t**2)*u))\n",
    "        \n",
    "    def GetTotalLiftCoefficient(self, AOA):\n",
    "        CLw = self.GetCL0(\"Wing\") + self.GetCLslope('Wing') * AOA/57.3\n",
    "        CLt = (self.GetCL0(\"Tail\") + self.GetCLslope('Tail') * AOA/57.3 ) * np.cos(self.DihedraTail)\n",
    "\n",
    "        CLtotal = CLw + self.Stail / self.S * CLt\n",
    "        return CLtotal\n",
    "\n",
    "        \n",
    "    def PlotWing(self):\n",
    "        '''Функция рисует крыло'''\n",
    "        fig, ax = plt.subplots(1,1, figsize = (8,4))\n",
    "        ax.set_xlim(-self.b/2*1.1, self.b/2*1.1)\n",
    "        ax.set_ylim(-0.1*self.cr, 1.1*self.cr)\n",
    "        ax.set_aspect('equal')\n",
    "        ax.hlines(0, 0, self.d/2, color = 'black')\n",
    "        ax.hlines(self.cr, 0, self.d/2, color='black')\n",
    "        ax.vlines(self.d/2, 0, self.cr, color = 'black', linestyles='--')\n",
    "        ax.plot([self.d/2, self.b/2,], [0, self.cr/2 - self.ct/2], color = 'black')\n",
    "        ax.plot([self.d/2, self.b/2,], [self.cr, self.cr/2 + self.ct/2], color='black')\n",
    "        ax.vlines(self.b/2, self.cr/2 - self.ct/2, self.cr/2 + self.ct/2, color = 'black')\n",
    "        ax.hlines(0, 0, -self.d/2, color = 'black')\n",
    "        ax.hlines(self.cr, 0, -self.d/2, color='black')\n",
    "        ax.vlines(-self.d/2, 0, self.cr, color = 'black', linestyles='--')\n",
    "        ax.plot([-self.d/2, -self.b/2,], [0, self.cr/2 - self.ct/2], color = 'black')\n",
    "        ax.plot([-self.d/2, -self.b/2,], [self.cr, self.cr/2 + self.ct/2], color='black')\n",
    "        ax.vlines(-self.b/2, self.cr/2 - self.ct/2, self.cr/2 + self.ct/2, color = 'black')\n",
    "\n",
    "S = 0.35\n",
    "WingAirfoil = \"SD7032\"\n",
    "TR = 0.7\n",
    "AR = 8.2\n",
    "cr = 0\n",
    "cf = 0.3\n",
    "iw = 0 # угол установки крыла\n",
    "WingData = (WingAirfoil, S, TR, AR, cr, cf, iw)\n",
    "\n",
    "type = 'V'\n",
    "TailAirfoil = 'NACA0006'\n",
    "Vht = 0.5\n",
    "Vvt = 0.04\n",
    "Lt = 0.6\n",
    "itail = 0 # Угол установки хвостового оперения\n",
    "cf = 0.3\n",
    "TailData = (type, TailAirfoil, Vht, Vvt, Lt, cf, itail)\n",
    "\n",
    "\n",
    "\n",
    "p = UAV(mass = 3.5, V = 18, WingData=WingData, FusWidth=0.2, FusLength= 1.4, Tail = TailData, SweepQuart=True)\n",
    "p.GetTotalLiftCoefficient(AOA=0), p.GetCLcruise()\n",
    "# V = np.linspace(16, 21, 11)\n",
    "# Cdmin = np.array([0.0182, 0.0179, 0.0177, 0.0175, 0.0174, 0.0172,0.0170,0.0168,0.0167,0.0165,0.0164]) * 1.225 * V**2 / 2 * 0.355 \n",
    "# plt.plot(V, Cdmin)"
   ]
  },
  {
   "cell_type": "markdown",
   "id": "cfef445d",
   "metadata": {},
   "source": [
    "### Модель коэффициента подъемной силы\n",
    "$$C_L = C_{L_{0}} + C_{L_{\\alpha}}\\alpha + C_{L_{\\delta_{e}}}\\delta_{e} + C_{L_{q}}\\frac{c}{2v_a}q$$"
   ]
  },
  {
   "cell_type": "markdown",
   "id": "4d24ac08",
   "metadata": {},
   "source": [
    "#### Наклон кривой коэффициента подъемной силы $C_{L_{\\alpha}}$\n",
    "![.](LiftCurveSlope.jpg)\n",
    "![.](LiftCurveSlopeRaymer.jpg)"
   ]
  },
  {
   "cell_type": "markdown",
   "id": "63690c96",
   "metadata": {},
   "source": [
    "#### Угол атаки нулевой подъемной силы\n",
    "\n",
    "![.](ZeroLiftCoef.jpg)"
   ]
  },
  {
   "cell_type": "markdown",
   "id": "54487c76",
   "metadata": {},
   "source": [
    "#### Коэффициент эффективности Освальда\n",
    "\n",
    "![.](OsvaldEfficiency.jpg)"
   ]
  },
  {
   "cell_type": "markdown",
   "id": "ed8628d2",
   "metadata": {},
   "source": [
    "#### Требуемый коэффициент подъемной силы при заданной скорости полета и массе ЛА\n",
    "\n",
    "![.](CruiseLiftCoefficient.jpg)\n"
   ]
  },
  {
   "cell_type": "markdown",
   "id": "9d33815e",
   "metadata": {},
   "source": [
    "### Модель коэффициента лобового сопротивления\n",
    "$$C_D = C_{D_{0}} + C_{D{\\alpha}}\\alpha + C_{D_{\\delta_{e}}}\\delta_{e} + C_{D_{q}}\\frac{c}{2v_a}q$$\n",
    "Для более точной оценки лобового сопротивления в зависимости от угла атаки и геометрических характеристик ЛА используем дополненую квадратичную модель коэффициента лобового сопроивления\n",
    "$$C_{D_{0}} + C_{D_{\\alpha}}\\alpha = C_{D}(\\alpha) = C_{D_{0}} + C_{D_{i}} = C_{D_{0}} + \\frac{(C_{L}(\\alpha) - C_{LmD})^{2}}{\\pi e AR}$$\n",
    "где $C_{D_{0}}$ - паразитное сопроивление, $C_{D_{i}}$ - индуцированное сопротивление засчет подъемной силы, $e$ - коэффициент эффективности Освальда\n",
    "$$C_{D_{\\alpha}} = \\frac{\\partial C_{D}(\\alpha)}{\\partial \\alpha} = \\frac{2}{\\pi e AR}(C_{L_{0}} + C_{L_{\\alpha}} - C_{LmD})C_{L_{\\alpha}}$$\n",
    "$$C_{D_{0}} = (C_{D_{add}} + \\frac{1}{S}(\\sum_{i}(C_{f_{i}} \\times FF_{i} \\times S_{wet_{i}} \\times IF_{i})))k_{crud}$$\n",
    "где $C_{f}$ - коэффициент сил трения\n",
    "\n",
    "$FF (Form factor)$ - множитель, учитывающий форму обтекаемого тела (крыла, фюзеляжа)\n",
    "\n",
    "$S_{wet}$ - полная площадь поверхности тела, которая обтекается воздухом\n",
    "\n",
    "$IF (Interference factor)$ - множитель, учитывающий взаимное расположение и влияние элементов на друг друга \n",
    "\n",
    "$C_{D_{add}}$ - дополнительный коэффициент сопротивления засчет элементов конструкции, неявляющихся крылом или фюзеляжем, например, подвесных конструкций на крыле\n",
    "\n",
    "$k_{crud}$ (Cumulative Result of Undesirable\n",
    " Drag) - множитель, учитывающий неидеальность конструкции, отличие расчетных форм поверхностей от действительных\n",
    "\n",
    "Суммирирование производится по всем рассматриваемым элементам: крыло, фюзеляж, хвостовое оперение"
   ]
  },
  {
   "cell_type": "markdown",
   "id": "7833ffef",
   "metadata": {},
   "source": [
    "#### Оценка паразитного сопротивления $C_{D_{0}}$\n",
    "![.](CdminEstimationAlgorithm.jpg)"
   ]
  },
  {
   "cell_type": "markdown",
   "id": "3f2bec8f",
   "metadata": {},
   "source": [
    "#### Фактор взаимодействия элементов конструкции между собой\n",
    "![.](InterferenceFactor.jpg)"
   ]
  },
  {
   "cell_type": "markdown",
   "id": "b6ad0054",
   "metadata": {},
   "source": [
    "#### Неровность поверхности материала\n",
    "\n",
    "Если понимать данные в таблице, как характерный размер неровностей на поверхности материала, то для детали изготовленной на 3Д принере-  ?\n",
    "![.](SurfaceRoughness.jpg)"
   ]
  },
  {
   "cell_type": "markdown",
   "id": "d7ae6c1b",
   "metadata": {},
   "source": [
    "#### CRUD $k_{crud}$\n",
    "![.](CRUDfactor.jpg)"
   ]
  },
  {
   "cell_type": "markdown",
   "id": "4dd6bb1c",
   "metadata": {},
   "source": [
    "#### Коэффициент силы трения для профиля крыла, хвостового оперения\n",
    "![.](SkinFrictionCoef.jpg)"
   ]
  },
  {
   "cell_type": "code",
   "execution_count": 74,
   "id": "1ba6a09a",
   "metadata": {},
   "outputs": [
    {
     "ename": "NameError",
     "evalue": "name 'pho' is not defined",
     "output_type": "error",
     "traceback": [
      "\u001b[1;31m---------------------------------------------------------------------------\u001b[0m",
      "\u001b[1;31mNameError\u001b[0m                                 Traceback (most recent call last)",
      "Cell \u001b[1;32mIn [74], line 5\u001b[0m\n\u001b[0;32m      2\u001b[0m v_a \u001b[38;5;241m=\u001b[39m \u001b[38;5;241m18\u001b[39m \u001b[38;5;66;03m#средняя ветровая скорость\u001b[39;00m\n\u001b[0;32m      3\u001b[0m C_L \u001b[38;5;241m=\u001b[39m \u001b[38;5;241m0.45\u001b[39m \u001b[38;5;66;03m#коэффициент подъёмной силы для профиля SD7032\u001b[39;00m\n\u001b[1;32m----> 5\u001b[0m q \u001b[38;5;241m=\u001b[39m \u001b[43mpho\u001b[49m\u001b[38;5;241m*\u001b[39m(v_a\u001b[38;5;241m*\u001b[39m\u001b[38;5;241m*\u001b[39m\u001b[38;5;241m2\u001b[39m)\u001b[38;5;241m/\u001b[39m\u001b[38;5;241m2\u001b[39m\n\u001b[0;32m      6\u001b[0m S_w \u001b[38;5;241m=\u001b[39m m\u001b[38;5;241m*\u001b[39mg\u001b[38;5;241m/\u001b[39m(q\u001b[38;5;241m*\u001b[39mC_L)\n\u001b[0;32m      8\u001b[0m dm(md(\u001b[38;5;124mf\u001b[39m\u001b[38;5;124m\"\u001b[39m\u001b[38;5;124m$ S_w = \u001b[39m\u001b[38;5;132;01m{\u001b[39;00m\u001b[38;5;28mround\u001b[39m(S_w, \u001b[38;5;241m2\u001b[39m)\u001b[38;5;132;01m}\u001b[39;00m\u001b[38;5;124m $\u001b[39m\u001b[38;5;124m\"\u001b[39m))\n",
      "\u001b[1;31mNameError\u001b[0m: name 'pho' is not defined"
     ]
    }
   ],
   "source": [
    "m = 3.5 #масса ЛА\n",
    "v_a = 18 #средняя ветровая скорость\n",
    "C_L = 0.45 #коэффициент подъёмной силы для профиля SD7032\n",
    "\n",
    "q = pho*(v_a**2)/2\n",
    "S_w = m*g/(q*C_L)\n",
    "\n",
    "dm(md(f\"$ S_w = {round(S_w, 2)} $\"))"
   ]
  },
  {
   "cell_type": "code",
   "execution_count": null,
   "id": "403516f0",
   "metadata": {},
   "outputs": [
    {
     "data": {
      "text/markdown": [
       "$b_w = 1.6, C_w = 0.23$"
      ]
     },
     "metadata": {},
     "output_type": "display_data"
    }
   ],
   "source": [
    "#ИНИЦИАЛИЗАЦИЯ\n",
    "C_R = 0.25 #корневая хорда крыла\n",
    "C_e = 0.2 #концевая хорда крыла\n",
    "TR_w = C_e/C_R #сужение крыла\n",
    "AR_w = 7 #удлинение крыла\n",
    "d = 0.2 # длина центроплана\n",
    "\n",
    "#РАСЧЁТ\n",
    "C_m = 0.5*(C_R+C_e) #полусумма оснований\n",
    "b_w = AR_w*(C_m + np.sqrt(C_m**2 - 4*d*(C_m-C_R)/AR_w))/2 #размах крыла\n",
    "C_w = b_w/AR_w #средняя хорда крыла (из b_w)\n",
    "\n",
    "#ВЫВОД\n",
    "dm(md(f\"$b_w = {round(b_w, 2)}, C_w = {round(C_w, 2)}$\"))"
   ]
  },
  {
   "cell_type": "code",
   "execution_count": null,
   "id": "02e6e969",
   "metadata": {},
   "outputs": [
    {
     "data": {
      "text/markdown": [
       "$S_{VT} =  0.012$"
      ]
     },
     "metadata": {},
     "output_type": "display_data"
    },
    {
     "ename": "NameError",
     "evalue": "name 'S_HT' is not defined",
     "output_type": "error",
     "traceback": [
      "\u001b[1;31m---------------------------------------------------------------------------\u001b[0m",
      "\u001b[1;31mNameError\u001b[0m                                 Traceback (most recent call last)",
      "Cell \u001b[1;32mIn [27], line 12\u001b[0m\n\u001b[0;32m     10\u001b[0m \u001b[38;5;66;03m#ВЫВОД\u001b[39;00m\n\u001b[0;32m     11\u001b[0m dm(md(\u001b[38;5;124mf\u001b[39m\u001b[38;5;124m\"\u001b[39m\u001b[38;5;124m$S_\u001b[39m\u001b[38;5;130;01m{{\u001b[39;00m\u001b[38;5;124mVT\u001b[39m\u001b[38;5;130;01m}}\u001b[39;00m\u001b[38;5;124m =  \u001b[39m\u001b[38;5;132;01m{\u001b[39;00m\u001b[38;5;28mround\u001b[39m(S_VT,\u001b[38;5;241m3\u001b[39m)\u001b[38;5;132;01m}\u001b[39;00m\u001b[38;5;124m$\u001b[39m\u001b[38;5;124m\"\u001b[39m))\n\u001b[1;32m---> 12\u001b[0m dm(md(\u001b[38;5;124mf\u001b[39m\u001b[38;5;124m\"\u001b[39m\u001b[38;5;124m$S_\u001b[39m\u001b[38;5;130;01m{{\u001b[39;00m\u001b[38;5;124mHT\u001b[39m\u001b[38;5;130;01m}}\u001b[39;00m\u001b[38;5;124m =  \u001b[39m\u001b[38;5;132;01m{\u001b[39;00m\u001b[38;5;28mround\u001b[39m(S_HT,\u001b[38;5;241m3\u001b[39m)\u001b[38;5;132;01m}\u001b[39;00m\u001b[38;5;124m$\u001b[39m\u001b[38;5;124m\"\u001b[39m))\n",
      "\u001b[1;31mNameError\u001b[0m: name 'S_HT' is not defined"
     ]
    }
   ],
   "source": [
    "#ИНИЦИАЛИЗАЦИЯ\n",
    "c_HT = 0.5\n",
    "c_VT = 0.02\n",
    "L = 0.525\n",
    "\n",
    "#РАСЧЁТ\n",
    "S_VT = 0.5*c_VT*b_w*S_w/L\n",
    "TS_HT = c_HT*C_w*S_w/L \n",
    "\n",
    "#ВЫВОД\n",
    "dm(md(f\"$S_{{VT}} =  {round(S_VT,3)}$\"))\n",
    "dm(md(f\"$S_{{HT}} =  {round(S_HT,3)}$\"))"
   ]
  },
  {
   "cell_type": "code",
   "execution_count": null,
   "id": "afcd55d8",
   "metadata": {},
   "outputs": [
    {
     "data": {
      "text/markdown": [
       "$C_{VT} =  0.062$"
      ]
     },
     "metadata": {},
     "output_type": "display_data"
    },
    {
     "data": {
      "text/markdown": [
       "$C_{HT} =  0.167$"
      ]
     },
     "metadata": {},
     "output_type": "display_data"
    },
    {
     "data": {
      "text/markdown": [
       "$b_{VT} =  0.187$"
      ]
     },
     "metadata": {},
     "output_type": "display_data"
    },
    {
     "data": {
      "text/markdown": [
       "$b_{HT} =  0.5$"
      ]
     },
     "metadata": {},
     "output_type": "display_data"
    }
   ],
   "source": [
    "#ИНИЦИАЛИЗАЦИЯ\n",
    "AR_t = 3 #удлинение хвостового оперения\n",
    "\n",
    "#РАСЧЁТ\n",
    "#средние хорды вертикального и горизонтального оперений\n",
    "C_HT = np.sqrt(S_HT/AR_t)\n",
    "C_VT = np.sqrt(S_VT/AR_t)\n",
    "#размахи вертикального и горизонтального оперений\n",
    "b_HT = S_HT/C_HT\n",
    "b_VT = S_VT/C_VT\n",
    "#ВЫВОД\n",
    "dm(md(f\"$C_{{VT}} =  {round(C_VT,3)}$\"))\n",
    "dm(md(f\"$C_{{HT}} =  {round(C_HT,3)}$\"))\n",
    "dm(md(f\"$b_{{VT}} =  {round(b_VT,3)}$\"))\n",
    "dm(md(f\"$b_{{HT}} =  {round(b_HT,3)}$\"))\n",
    "# print(\"b_VT = \", round(b_VT,3))\n",
    "# print(\"C_HT = \", round(C_HT,3))\n",
    "# print(\"b_HT = \", round(b_HT,3))"
   ]
  },
  {
   "cell_type": "code",
   "execution_count": null,
   "id": "f9deab55",
   "metadata": {},
   "outputs": [
    {
     "data": {
      "text/markdown": [
       "$\\theta = 20.51\\degree$"
      ]
     },
     "metadata": {},
     "output_type": "display_data"
    },
    {
     "data": {
      "text/markdown": [
       "$S_T = 0.089$"
      ]
     },
     "metadata": {},
     "output_type": "display_data"
    }
   ],
   "source": [
    "#ИНИЦИАЛИЗАЦИЯ\n",
    "\n",
    "#РАСЧЁТ\n",
    "#угол наклона лопатки относительно горизонтальной плоскости\n",
    "theta = np.arctan(b_VT/b_HT)\n",
    "S_T = S_HT/np.cos(theta) #площадь лопатки V_tail\n",
    "\n",
    "#ВЫВОД\n",
    "dm(md(f\"$\\\\theta = {round(theta*360/(2*np.pi), 2)}\\\\degree$\"))\n",
    "dm(md(f\"$S_T = {round(S_T, 3)}$\"))"
   ]
  },
  {
   "cell_type": "code",
   "execution_count": null,
   "id": "0fc7fb86",
   "metadata": {},
   "outputs": [
    {
     "data": {
      "text/markdown": [
       "$c = 0.172$"
      ]
     },
     "metadata": {},
     "output_type": "display_data"
    },
    {
     "data": {
      "text/markdown": [
       "$c_r = 0.23$"
      ]
     },
     "metadata": {},
     "output_type": "display_data"
    },
    {
     "data": {
      "text/markdown": [
       "$c_e = 0.115$"
      ]
     },
     "metadata": {},
     "output_type": "display_data"
    }
   ],
   "source": [
    "#ИНИЦИАЛИЗАЦИЯ\n",
    "TR_t = 0.5 #сужение для хвостового оперения\n",
    "b_T = b_HT/2 #длина лопатки\n",
    "\n",
    "#РАСЧЁТ\n",
    "#средняя, корневая и концевая хорды лопаток V-tail\n",
    "c = np.sqrt(S_T/AR_t)\n",
    "c_r = c/0.75\n",
    "c_e = 0.5*c_r\n",
    "\n",
    "#ВЫВОД\n",
    "dm(md(f\"$c = {round(c, 3)}$\"))\n",
    "dm(md(f\"$c_r = {round(c_r, 3)}$\"))\n",
    "dm(md(f\"$c_e = {round(c_e, 3)}$\"))"
   ]
  },
  {
   "cell_type": "code",
   "execution_count": null,
   "id": "5c6346a4",
   "metadata": {},
   "outputs": [
    {
     "data": {
      "text/markdown": [
       "$C_{L\\alpha} =  5.463 , SD7032$"
      ]
     },
     "metadata": {},
     "output_type": "display_data"
    }
   ],
   "source": [
    "df = pd.read_csv('SD7032 C_L.csv', delimiter = '\\t')\n",
    "alpha = df['alpha'] #угол атаки в градусах\n",
    "CL = df['CL']\n",
    "start = 13\n",
    "stop = 67\n",
    "t_approx = np.polyfit(alpha[start:stop], CL[start:stop], 1)\n",
    "f_approx = np.poly1d(t_approx)[1]*360/(2*np.pi) #тангенс угла наклона линейной части поляры крыла C_l(alpha)\n",
    "C_L_alpha = 0.9*f_approx #коэффициент при первой степени разложения коэффициента подъёмной силы по альфа  \n",
    "dm(md(f\"$C_{{L\\\\alpha}} =  {round(C_L_alpha,3)} , SD7032$\"))\n"
   ]
  },
  {
   "cell_type": "code",
   "execution_count": null,
   "id": "5b7a8a0e",
   "metadata": {},
   "outputs": [
    {
     "data": {
      "text/markdown": [
       "$C_{L\\alpha} =  7.428, NACA0009$"
      ]
     },
     "metadata": {},
     "output_type": "display_data"
    }
   ],
   "source": [
    "df1 = pd.read_csv('xf-n0009sm-il-500000.csv', delimiter = ',')\n",
    "alpha = df1['Alpha'] #угол атаки в градусах\n",
    "CL = df1['Cl']\n",
    "start = 40\n",
    "stop = 68\n",
    "t_approx = np.polyfit(alpha[start:stop], CL[start:stop], 1)\n",
    "f_approx = np.poly1d(t_approx)[1]*360/(2*np.pi) #тангенс угла наклона линейной части поляры крыла C_l(alpha)\n",
    "C_L_alpha1 = 0.9*f_approx #коэффициент при первой степени разложения коэффициента подъёмной силы по альфа  \n",
    "dm(md(f\"$C_{{L\\\\alpha}} =  {round(C_L_alpha1,3)}, NACA0009$\"))"
   ]
  },
  {
   "cell_type": "code",
   "execution_count": null,
   "id": "68f33b38",
   "metadata": {},
   "outputs": [
    {
     "data": {
      "text/markdown": [
       "$\\varphi = 13.8 \\degree$"
      ]
     },
     "metadata": {},
     "output_type": "display_data"
    },
    {
     "data": {
      "text/markdown": [
       "$X_{c.p} = 0.149$"
      ]
     },
     "metadata": {},
     "output_type": "display_data"
    }
   ],
   "source": [
    "M = q*S_w*C_L\n",
    "C1 = C_L_alpha1\n",
    "varphi = np.sqrt(M/(q*L*S_w*C1*2)) #угол установки\n",
    "X_cp = S_T*C1*L*0.9/(S_w*C_L_alpha)\n",
    "dm(md(f\"$\\\\varphi = {round(varphi*360/(2*np.pi), 1)} \\\\degree$\"))\n",
    "dm(md(f\"$X_{{c.p}} = {round(X_cp , 3)}$\"))"
   ]
  },
  {
   "cell_type": "code",
   "execution_count": null,
   "id": "d583ef9b",
   "metadata": {},
   "outputs": [
    {
     "data": {
      "text/markdown": [
       "$ S_w = 0.38 $"
      ]
     },
     "metadata": {},
     "output_type": "display_data"
    },
    {
     "data": {
      "text/markdown": [
       "$b_w = 1.6, C_w = 0.23$"
      ]
     },
     "metadata": {},
     "output_type": "display_data"
    },
    {
     "data": {
      "text/markdown": [
       "$S_{VT} =  0.012$"
      ]
     },
     "metadata": {},
     "output_type": "display_data"
    },
    {
     "data": {
      "text/markdown": [
       "$S_{HT} =  0.083$"
      ]
     },
     "metadata": {},
     "output_type": "display_data"
    },
    {
     "data": {
      "text/markdown": [
       "$C_{VT} =  0.062$"
      ]
     },
     "metadata": {},
     "output_type": "display_data"
    },
    {
     "data": {
      "text/markdown": [
       "$C_{HT} =  0.167$"
      ]
     },
     "metadata": {},
     "output_type": "display_data"
    },
    {
     "data": {
      "text/markdown": [
       "$b_{VT} =  0.187$"
      ]
     },
     "metadata": {},
     "output_type": "display_data"
    },
    {
     "data": {
      "text/markdown": [
       "$b_{HT} =  0.5$"
      ]
     },
     "metadata": {},
     "output_type": "display_data"
    },
    {
     "data": {
      "text/markdown": [
       "$\\theta = 20.51\\degree$"
      ]
     },
     "metadata": {},
     "output_type": "display_data"
    },
    {
     "data": {
      "text/markdown": [
       "$S_T = 0.089$"
      ]
     },
     "metadata": {},
     "output_type": "display_data"
    },
    {
     "data": {
      "text/markdown": [
       "$c = 0.172$"
      ]
     },
     "metadata": {},
     "output_type": "display_data"
    },
    {
     "data": {
      "text/markdown": [
       "$c_r = 0.23$"
      ]
     },
     "metadata": {},
     "output_type": "display_data"
    },
    {
     "data": {
      "text/markdown": [
       "$c_e = 0.115$"
      ]
     },
     "metadata": {},
     "output_type": "display_data"
    },
    {
     "data": {
      "text/markdown": [
       "$C_{L\\alpha} =  5.463 , SD7032$"
      ]
     },
     "metadata": {},
     "output_type": "display_data"
    },
    {
     "data": {
      "text/markdown": [
       "$C_{L\\alpha} =  7.428, NACA0009$"
      ]
     },
     "metadata": {},
     "output_type": "display_data"
    },
    {
     "data": {
      "text/markdown": [
       "$X_{c.p} = 0.149$"
      ]
     },
     "metadata": {},
     "output_type": "display_data"
    },
    {
     "data": {
      "text/markdown": [
       "$\\varphi = 13.8 \\degree$"
      ]
     },
     "metadata": {},
     "output_type": "display_data"
    }
   ],
   "source": [
    "#РЕЗУЛЬТАТЫ\n",
    "dm(md(f\"$ S_w = {round(S_w, 2)} $\"))\n",
    "dm(md(f\"$b_w = {round(b_w, 2)}, C_w = {round(C_w, 2)}$\"))\n",
    "dm(md(f\"$S_{{VT}} =  {round(S_VT,3)}$\"))\n",
    "dm(md(f\"$S_{{HT}} =  {round(S_HT,3)}$\"))\n",
    "dm(md(f\"$C_{{VT}} =  {round(C_VT,3)}$\"))\n",
    "dm(md(f\"$C_{{HT}} =  {round(C_HT,3)}$\"))\n",
    "dm(md(f\"$b_{{VT}} =  {round(b_VT,3)}$\"))\n",
    "dm(md(f\"$b_{{HT}} =  {round(b_HT,3)}$\"))\n",
    "dm(md(f\"$\\\\theta = {round(theta*360/(2*np.pi), 2)}\\\\degree$\"))\n",
    "dm(md(f\"$S_T = {round(S_T, 3)}$\"))\n",
    "dm(md(f\"$c = {round(c, 3)}$\"))\n",
    "dm(md(f\"$c_r = {round(c_r, 3)}$\"))\n",
    "dm(md(f\"$c_e = {round(c_e, 3)}$\"))\n",
    "dm(md(f\"$C_{{L\\\\alpha}} =  {round(C_L_alpha,3)} , SD7032$\"))\n",
    "dm(md(f\"$C_{{L\\\\alpha}} =  {round(C_L_alpha1,3)}, NACA0009$\"))\n",
    "dm(md(f\"$X_{{c.p}} = {round(X_cp , 3)}$\"))\n",
    "dm(md(f\"$\\\\varphi = {round(varphi*360/(2*np.pi), 1)} \\\\degree$\"))"
   ]
  },
  {
   "cell_type": "code",
   "execution_count": null,
   "id": "bb0cb214",
   "metadata": {},
   "outputs": [],
   "source": []
  }
 ],
 "metadata": {
  "kernelspec": {
   "display_name": "Python 3",
   "language": "python",
   "name": "python3"
  },
  "language_info": {
   "codemirror_mode": {
    "name": "ipython",
    "version": 3
   },
   "file_extension": ".py",
   "mimetype": "text/x-python",
   "name": "python",
   "nbconvert_exporter": "python",
   "pygments_lexer": "ipython3",
   "version": "3.10.7"
  }
 },
 "nbformat": 4,
 "nbformat_minor": 5
}
