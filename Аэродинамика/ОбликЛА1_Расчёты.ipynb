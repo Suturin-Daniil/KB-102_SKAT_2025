{
 "cells": [
  {
   "cell_type": "code",
   "execution_count": 55,
   "id": "07c1ba9e",
   "metadata": {},
   "outputs": [],
   "source": [
    "from IPython.display import Markdown as md\n",
    "from IPython.display import display_markdown as dm\n",
    "import numpy as np\n",
    "# import pandas as pd\n",
    "import matplotlib.pyplot as plt\n",
    "import sympy as smp\n",
    "import scipy as scp\n",
    "from scipy.interpolate import interp1d"
   ]
  },
  {
   "cell_type": "code",
   "execution_count": 60,
   "id": "fa3bd2dc",
   "metadata": {},
   "outputs": [],
   "source": [
    "class UAV:\n",
    "    rho_0 = 1.225\n",
    "    rho = rho_0\n",
    "    g = 9.81\n",
    "    mu = 0.0289644\n",
    "    R = 8.3144598\n",
    "    T = 273 + 15\n",
    "    def __init__(self, airfoil, S , b, mass, V, WingType, cr=0, ct = 0, Lt = 0, H = 0):\n",
    "        self.mass = mass\n",
    "        self.S = S\n",
    "        self.WingType = WingType\n",
    "        self.b = b\n",
    "        self.AR = b**2/S\n",
    "        self.Lamc2 = 0\n",
    "        self.cr = cr\n",
    "        self.ct = ct\n",
    "        self.Lt = Lt\n",
    "        self.Va = V\n",
    "        self.H = H\n",
    "        self.airfoilName = airfoil\n",
    "        self.airfoilDat = np.loadtxt('{}.txt'.format(airfoil), dtype=float)\n",
    "\n",
    "        self.__GetAirDensity(self.H)\n",
    "\n",
    "    def __GetAirDensity(self, h):\n",
    "        self.rho = self.rho_0*np.exp(-self.g * self.mu * h / (self.R * self.T))\n",
    "\n",
    "    def GetAirfoilThikness(self):\n",
    "        return self.airfoil[0, 0]\n",
    "    \n",
    "    def GetCruiseSpeed(self):\n",
    "        return np.sqrt(2 * self.g * self.mass / (self.rho * self.S * 0.4))\n",
    "    \n",
    "    def GetDynamicPressure(self):\n",
    "        self.__GetAirDensity(self.H)\n",
    "        if self.Va != 0:\n",
    "            return self.rho * self.Va**2 / 2\n",
    "        else:\n",
    "            return self.rho * self.GetCruiseSpeed()**2 / 2\n",
    "    \n",
    "    def GetAirfoilSlope(self):\n",
    "        return 2*3.1415*0.8\n",
    "    \n",
    "    def GetSpeedSound(self):\n",
    "        return np.sqrt(1.4 * self.R * self.T/self.mu)\n"
   ]
  },
  {
   "cell_type": "markdown",
   "id": "cfef445d",
   "metadata": {},
   "source": [
    "### Модель коэффициента подъемной силы\n",
    "$$C_L = C_{L_{0}} + C_{L_{\\alpha}}\\alpha + C_{L_{\\delta_{e}}}\\delta_{e} + C_{L_{q}}\\frac{c}{2v_a}q$$"
   ]
  },
  {
   "cell_type": "markdown",
   "id": "4d24ac08",
   "metadata": {},
   "source": [
    "#### Наклон кривой коэффициента подъемной силы $C_{L_{\\alpha}}$\n",
    "![.](LiftCurveSlope.jpg)"
   ]
  },
  {
   "cell_type": "code",
   "execution_count": 61,
   "id": "f21c1e24",
   "metadata": {},
   "outputs": [
    {
     "data": {
      "text/plain": [
       "(np.float64(3.866872681296814), np.float64(3.9578430555767508))"
      ]
     },
     "execution_count": 61,
     "metadata": {},
     "output_type": "execute_result"
    }
   ],
   "source": [
    "\n",
    "        \n",
    "\n",
    "def GetCLaExp(UAV):\n",
    "    Data = np.loadtxt('LiftCurveSlope.csv', dtype = float, delimiter=',', skiprows=1)\n",
    "    CL_AR= Data[:, -1]\n",
    "    x = np.linspace(0, 16, 33)\n",
    "    f_CL_AR = interp1d(x, CL_AR, 'cubic')\n",
    "\n",
    "    beta = 1 - (UAV.Va/UAV.GetSpeedSound())**2\n",
    "    k = UAV.GetAirfoilSlope() / (2*np.pi)\n",
    "    x = UAV.AR/k * (beta**2 + np.tan(UAV.Lamc2)**2)**0.5\n",
    "    CLa = UAV.AR * f_CL_AR(x)\n",
    "    return CLa\n",
    "\n",
    "def GetCLaTh(UAV):\n",
    "    beta = 1 - (UAV.Va/UAV.GetSpeedSound())**2\n",
    "    k = UAV.GetAirfoilSlope() / (2*np.pi)\n",
    "    x = UAV.AR/k * (beta**2 + np.tan(UAV.Lamc2)**2)**0.5\n",
    "    return 2*np.pi*UAV.AR / (2 + np.sqrt(x**2 + 4))\n",
    "\n",
    "plane =  UAV(\"NACA0009\", 0.366, 1.55, 3.5, 19, 'rectangular')\n",
    "GetCLaExp(plane), GetCLaTh(plane)"
   ]
  },
  {
   "cell_type": "markdown",
   "id": "9d33815e",
   "metadata": {},
   "source": [
    "### Модель коэффициента лобового сопротивления\n",
    "$$C_D = C_{D_{0}} + C_{D{\\alpha}}\\alpha + C_{D_{\\delta_{e}}}\\delta_{e} + C_{D_{q}}\\frac{c}{2v_a}q$$\n",
    "Для более точной оценки лобового сопротивления в зависимости от угла атаки и геометрических характеристик ЛА используем дополненую квадратичную модель коэффициента лобового сопроивления\n",
    "$$C_{D_{0}} + C_{D_{\\alpha}}\\alpha = C_{D}(\\alpha) = C_{D_{0}} + C_{D_{i}} = C_{D_{0}} + \\frac{(C_{L}(\\alpha) - C_{LmD})^{2}}{\\pi e AR}$$\n",
    "где $C_{D_{0}}$ - паразитное сопроивление, $C_{D_{i}}$ - индуцированное сопротивление засчет подъемной силы, $e$ - коэффициент эффективности Освальда\n",
    "$$C_{D_{\\alpha}} = \\frac{\\partial C_{D}(\\alpha)}{\\partial \\alpha} = \\frac{2}{\\pi e AR}(C_{L_{0}} + C_{L_{\\alpha}} - C_{LmD})C_{L_{\\alpha}}$$"
   ]
  },
  {
   "cell_type": "code",
   "execution_count": null,
   "id": "2e9a3183",
   "metadata": {},
   "outputs": [],
   "source": []
  },
  {
   "cell_type": "code",
   "execution_count": null,
   "id": "1ba6a09a",
   "metadata": {},
   "outputs": [
    {
     "data": {
      "text/markdown": [
       "$ S_w = 0.38 $"
      ]
     },
     "metadata": {},
     "output_type": "display_data"
    }
   ],
   "source": [
    "m = 3.5 #масса ЛА\n",
    "v_a = 18 #средняя ветровая скорость\n",
    "C_L = 0.45 #коэффициент подъёмной силы для профиля SD7032\n",
    "\n",
    "q = pho*(v_a**2)/2\n",
    "S_w = m*g/(q*C_L)\n",
    "\n",
    "dm(md(f\"$ S_w = {round(S_w, 2)} $\"))"
   ]
  },
  {
   "cell_type": "code",
   "execution_count": null,
   "id": "403516f0",
   "metadata": {},
   "outputs": [
    {
     "data": {
      "text/markdown": [
       "$b_w = 1.6, C_w = 0.23$"
      ]
     },
     "metadata": {},
     "output_type": "display_data"
    }
   ],
   "source": [
    "#ИНИЦИАЛИЗАЦИЯ\n",
    "C_R = 0.25 #корневая хорда крыла\n",
    "C_e = 0.2 #концевая хорда крыла\n",
    "TR_w = C_e/C_R #сужение крыла\n",
    "AR_w = 7 #удлинение крыла\n",
    "d = 0.2 # длина центроплана\n",
    "\n",
    "#РАСЧЁТ\n",
    "C_m = 0.5*(C_R+C_e) #полусумма оснований\n",
    "b_w = AR_w*(C_m + np.sqrt(C_m**2 - 4*d*(C_m-C_R)/AR_w))/2 #размах крыла\n",
    "C_w = b_w/AR_w #средняя хорда крыла (из b_w)\n",
    "\n",
    "#ВЫВОД\n",
    "dm(md(f\"$b_w = {round(b_w, 2)}, C_w = {round(C_w, 2)}$\"))"
   ]
  },
  {
   "cell_type": "code",
   "execution_count": null,
   "id": "02e6e969",
   "metadata": {},
   "outputs": [
    {
     "data": {
      "text/markdown": [
       "$S_{VT} =  0.012$"
      ]
     },
     "metadata": {},
     "output_type": "display_data"
    },
    {
     "ename": "NameError",
     "evalue": "name 'S_HT' is not defined",
     "output_type": "error",
     "traceback": [
      "\u001b[1;31m---------------------------------------------------------------------------\u001b[0m",
      "\u001b[1;31mNameError\u001b[0m                                 Traceback (most recent call last)",
      "Cell \u001b[1;32mIn [27], line 12\u001b[0m\n\u001b[0;32m     10\u001b[0m \u001b[38;5;66;03m#ВЫВОД\u001b[39;00m\n\u001b[0;32m     11\u001b[0m dm(md(\u001b[38;5;124mf\u001b[39m\u001b[38;5;124m\"\u001b[39m\u001b[38;5;124m$S_\u001b[39m\u001b[38;5;130;01m{{\u001b[39;00m\u001b[38;5;124mVT\u001b[39m\u001b[38;5;130;01m}}\u001b[39;00m\u001b[38;5;124m =  \u001b[39m\u001b[38;5;132;01m{\u001b[39;00m\u001b[38;5;28mround\u001b[39m(S_VT,\u001b[38;5;241m3\u001b[39m)\u001b[38;5;132;01m}\u001b[39;00m\u001b[38;5;124m$\u001b[39m\u001b[38;5;124m\"\u001b[39m))\n\u001b[1;32m---> 12\u001b[0m dm(md(\u001b[38;5;124mf\u001b[39m\u001b[38;5;124m\"\u001b[39m\u001b[38;5;124m$S_\u001b[39m\u001b[38;5;130;01m{{\u001b[39;00m\u001b[38;5;124mHT\u001b[39m\u001b[38;5;130;01m}}\u001b[39;00m\u001b[38;5;124m =  \u001b[39m\u001b[38;5;132;01m{\u001b[39;00m\u001b[38;5;28mround\u001b[39m(S_HT,\u001b[38;5;241m3\u001b[39m)\u001b[38;5;132;01m}\u001b[39;00m\u001b[38;5;124m$\u001b[39m\u001b[38;5;124m\"\u001b[39m))\n",
      "\u001b[1;31mNameError\u001b[0m: name 'S_HT' is not defined"
     ]
    }
   ],
   "source": [
    "#ИНИЦИАЛИЗАЦИЯ\n",
    "c_HT = 0.5\n",
    "c_VT = 0.02\n",
    "L = 0.525\n",
    "\n",
    "#РАСЧЁТ\n",
    "S_VT = 0.5*c_VT*b_w*S_w/L\n",
    "TS_HT = c_HT*C_w*S_w/L \n",
    "\n",
    "#ВЫВОД\n",
    "dm(md(f\"$S_{{VT}} =  {round(S_VT,3)}$\"))\n",
    "dm(md(f\"$S_{{HT}} =  {round(S_HT,3)}$\"))"
   ]
  },
  {
   "cell_type": "code",
   "execution_count": null,
   "id": "afcd55d8",
   "metadata": {},
   "outputs": [
    {
     "data": {
      "text/markdown": [
       "$C_{VT} =  0.062$"
      ]
     },
     "metadata": {},
     "output_type": "display_data"
    },
    {
     "data": {
      "text/markdown": [
       "$C_{HT} =  0.167$"
      ]
     },
     "metadata": {},
     "output_type": "display_data"
    },
    {
     "data": {
      "text/markdown": [
       "$b_{VT} =  0.187$"
      ]
     },
     "metadata": {},
     "output_type": "display_data"
    },
    {
     "data": {
      "text/markdown": [
       "$b_{HT} =  0.5$"
      ]
     },
     "metadata": {},
     "output_type": "display_data"
    }
   ],
   "source": [
    "#ИНИЦИАЛИЗАЦИЯ\n",
    "AR_t = 3 #удлинение хвостового оперения\n",
    "\n",
    "#РАСЧЁТ\n",
    "#средние хорды вертикального и горизонтального оперений\n",
    "C_HT = np.sqrt(S_HT/AR_t)\n",
    "C_VT = np.sqrt(S_VT/AR_t)\n",
    "#размахи вертикального и горизонтального оперений\n",
    "b_HT = S_HT/C_HT\n",
    "b_VT = S_VT/C_VT\n",
    "#ВЫВОД\n",
    "dm(md(f\"$C_{{VT}} =  {round(C_VT,3)}$\"))\n",
    "dm(md(f\"$C_{{HT}} =  {round(C_HT,3)}$\"))\n",
    "dm(md(f\"$b_{{VT}} =  {round(b_VT,3)}$\"))\n",
    "dm(md(f\"$b_{{HT}} =  {round(b_HT,3)}$\"))\n",
    "# print(\"b_VT = \", round(b_VT,3))\n",
    "# print(\"C_HT = \", round(C_HT,3))\n",
    "# print(\"b_HT = \", round(b_HT,3))"
   ]
  },
  {
   "cell_type": "code",
   "execution_count": null,
   "id": "f9deab55",
   "metadata": {},
   "outputs": [
    {
     "data": {
      "text/markdown": [
       "$\\theta = 20.51\\degree$"
      ]
     },
     "metadata": {},
     "output_type": "display_data"
    },
    {
     "data": {
      "text/markdown": [
       "$S_T = 0.089$"
      ]
     },
     "metadata": {},
     "output_type": "display_data"
    }
   ],
   "source": [
    "#ИНИЦИАЛИЗАЦИЯ\n",
    "\n",
    "#РАСЧЁТ\n",
    "#угол наклона лопатки относительно горизонтальной плоскости\n",
    "theta = np.arctan(b_VT/b_HT)\n",
    "S_T = S_HT/np.cos(theta) #площадь лопатки V_tail\n",
    "\n",
    "#ВЫВОД\n",
    "dm(md(f\"$\\\\theta = {round(theta*360/(2*np.pi), 2)}\\\\degree$\"))\n",
    "dm(md(f\"$S_T = {round(S_T, 3)}$\"))"
   ]
  },
  {
   "cell_type": "code",
   "execution_count": null,
   "id": "0fc7fb86",
   "metadata": {},
   "outputs": [
    {
     "data": {
      "text/markdown": [
       "$c = 0.172$"
      ]
     },
     "metadata": {},
     "output_type": "display_data"
    },
    {
     "data": {
      "text/markdown": [
       "$c_r = 0.23$"
      ]
     },
     "metadata": {},
     "output_type": "display_data"
    },
    {
     "data": {
      "text/markdown": [
       "$c_e = 0.115$"
      ]
     },
     "metadata": {},
     "output_type": "display_data"
    }
   ],
   "source": [
    "#ИНИЦИАЛИЗАЦИЯ\n",
    "TR_t = 0.5 #сужение для хвостового оперения\n",
    "b_T = b_HT/2 #длина лопатки\n",
    "\n",
    "#РАСЧЁТ\n",
    "#средняя, корневая и концевая хорды лопаток V-tail\n",
    "c = np.sqrt(S_T/AR_t)\n",
    "c_r = c/0.75\n",
    "c_e = 0.5*c_r\n",
    "\n",
    "#ВЫВОД\n",
    "dm(md(f\"$c = {round(c, 3)}$\"))\n",
    "dm(md(f\"$c_r = {round(c_r, 3)}$\"))\n",
    "dm(md(f\"$c_e = {round(c_e, 3)}$\"))"
   ]
  },
  {
   "cell_type": "code",
   "execution_count": null,
   "id": "5c6346a4",
   "metadata": {},
   "outputs": [
    {
     "data": {
      "text/markdown": [
       "$C_{L\\alpha} =  5.463 , SD7032$"
      ]
     },
     "metadata": {},
     "output_type": "display_data"
    }
   ],
   "source": [
    "df = pd.read_csv('SD7032 C_L.csv', delimiter = '\\t')\n",
    "alpha = df['alpha'] #угол атаки в градусах\n",
    "CL = df['CL']\n",
    "start = 13\n",
    "stop = 67\n",
    "t_approx = np.polyfit(alpha[start:stop], CL[start:stop], 1)\n",
    "f_approx = np.poly1d(t_approx)[1]*360/(2*np.pi) #тангенс угла наклона линейной части поляры крыла C_l(alpha)\n",
    "C_L_alpha = 0.9*f_approx #коэффициент при первой степени разложения коэффициента подъёмной силы по альфа  \n",
    "dm(md(f\"$C_{{L\\\\alpha}} =  {round(C_L_alpha,3)} , SD7032$\"))\n"
   ]
  },
  {
   "cell_type": "code",
   "execution_count": null,
   "id": "5b7a8a0e",
   "metadata": {},
   "outputs": [
    {
     "data": {
      "text/markdown": [
       "$C_{L\\alpha} =  7.428, NACA0009$"
      ]
     },
     "metadata": {},
     "output_type": "display_data"
    }
   ],
   "source": [
    "df1 = pd.read_csv('xf-n0009sm-il-500000.csv', delimiter = ',')\n",
    "alpha = df1['Alpha'] #угол атаки в градусах\n",
    "CL = df1['Cl']\n",
    "start = 40\n",
    "stop = 68\n",
    "t_approx = np.polyfit(alpha[start:stop], CL[start:stop], 1)\n",
    "f_approx = np.poly1d(t_approx)[1]*360/(2*np.pi) #тангенс угла наклона линейной части поляры крыла C_l(alpha)\n",
    "C_L_alpha1 = 0.9*f_approx #коэффициент при первой степени разложения коэффициента подъёмной силы по альфа  \n",
    "dm(md(f\"$C_{{L\\\\alpha}} =  {round(C_L_alpha1,3)}, NACA0009$\"))"
   ]
  },
  {
   "cell_type": "code",
   "execution_count": null,
   "id": "68f33b38",
   "metadata": {},
   "outputs": [
    {
     "data": {
      "text/markdown": [
       "$\\varphi = 13.8 \\degree$"
      ]
     },
     "metadata": {},
     "output_type": "display_data"
    },
    {
     "data": {
      "text/markdown": [
       "$X_{c.p} = 0.149$"
      ]
     },
     "metadata": {},
     "output_type": "display_data"
    }
   ],
   "source": [
    "M = q*S_w*C_L\n",
    "C1 = C_L_alpha1\n",
    "varphi = np.sqrt(M/(q*L*S_w*C1*2)) #угол установки\n",
    "X_cp = S_T*C1*L*0.9/(S_w*C_L_alpha)\n",
    "dm(md(f\"$\\\\varphi = {round(varphi*360/(2*np.pi), 1)} \\\\degree$\"))\n",
    "dm(md(f\"$X_{{c.p}} = {round(X_cp , 3)}$\"))"
   ]
  },
  {
   "cell_type": "code",
   "execution_count": null,
   "id": "d583ef9b",
   "metadata": {},
   "outputs": [
    {
     "data": {
      "text/markdown": [
       "$ S_w = 0.38 $"
      ]
     },
     "metadata": {},
     "output_type": "display_data"
    },
    {
     "data": {
      "text/markdown": [
       "$b_w = 1.6, C_w = 0.23$"
      ]
     },
     "metadata": {},
     "output_type": "display_data"
    },
    {
     "data": {
      "text/markdown": [
       "$S_{VT} =  0.012$"
      ]
     },
     "metadata": {},
     "output_type": "display_data"
    },
    {
     "data": {
      "text/markdown": [
       "$S_{HT} =  0.083$"
      ]
     },
     "metadata": {},
     "output_type": "display_data"
    },
    {
     "data": {
      "text/markdown": [
       "$C_{VT} =  0.062$"
      ]
     },
     "metadata": {},
     "output_type": "display_data"
    },
    {
     "data": {
      "text/markdown": [
       "$C_{HT} =  0.167$"
      ]
     },
     "metadata": {},
     "output_type": "display_data"
    },
    {
     "data": {
      "text/markdown": [
       "$b_{VT} =  0.187$"
      ]
     },
     "metadata": {},
     "output_type": "display_data"
    },
    {
     "data": {
      "text/markdown": [
       "$b_{HT} =  0.5$"
      ]
     },
     "metadata": {},
     "output_type": "display_data"
    },
    {
     "data": {
      "text/markdown": [
       "$\\theta = 20.51\\degree$"
      ]
     },
     "metadata": {},
     "output_type": "display_data"
    },
    {
     "data": {
      "text/markdown": [
       "$S_T = 0.089$"
      ]
     },
     "metadata": {},
     "output_type": "display_data"
    },
    {
     "data": {
      "text/markdown": [
       "$c = 0.172$"
      ]
     },
     "metadata": {},
     "output_type": "display_data"
    },
    {
     "data": {
      "text/markdown": [
       "$c_r = 0.23$"
      ]
     },
     "metadata": {},
     "output_type": "display_data"
    },
    {
     "data": {
      "text/markdown": [
       "$c_e = 0.115$"
      ]
     },
     "metadata": {},
     "output_type": "display_data"
    },
    {
     "data": {
      "text/markdown": [
       "$C_{L\\alpha} =  5.463 , SD7032$"
      ]
     },
     "metadata": {},
     "output_type": "display_data"
    },
    {
     "data": {
      "text/markdown": [
       "$C_{L\\alpha} =  7.428, NACA0009$"
      ]
     },
     "metadata": {},
     "output_type": "display_data"
    },
    {
     "data": {
      "text/markdown": [
       "$X_{c.p} = 0.149$"
      ]
     },
     "metadata": {},
     "output_type": "display_data"
    },
    {
     "data": {
      "text/markdown": [
       "$\\varphi = 13.8 \\degree$"
      ]
     },
     "metadata": {},
     "output_type": "display_data"
    }
   ],
   "source": [
    "#РЕЗУЛЬТАТЫ\n",
    "dm(md(f\"$ S_w = {round(S_w, 2)} $\"))\n",
    "dm(md(f\"$b_w = {round(b_w, 2)}, C_w = {round(C_w, 2)}$\"))\n",
    "dm(md(f\"$S_{{VT}} =  {round(S_VT,3)}$\"))\n",
    "dm(md(f\"$S_{{HT}} =  {round(S_HT,3)}$\"))\n",
    "dm(md(f\"$C_{{VT}} =  {round(C_VT,3)}$\"))\n",
    "dm(md(f\"$C_{{HT}} =  {round(C_HT,3)}$\"))\n",
    "dm(md(f\"$b_{{VT}} =  {round(b_VT,3)}$\"))\n",
    "dm(md(f\"$b_{{HT}} =  {round(b_HT,3)}$\"))\n",
    "dm(md(f\"$\\\\theta = {round(theta*360/(2*np.pi), 2)}\\\\degree$\"))\n",
    "dm(md(f\"$S_T = {round(S_T, 3)}$\"))\n",
    "dm(md(f\"$c = {round(c, 3)}$\"))\n",
    "dm(md(f\"$c_r = {round(c_r, 3)}$\"))\n",
    "dm(md(f\"$c_e = {round(c_e, 3)}$\"))\n",
    "dm(md(f\"$C_{{L\\\\alpha}} =  {round(C_L_alpha,3)} , SD7032$\"))\n",
    "dm(md(f\"$C_{{L\\\\alpha}} =  {round(C_L_alpha1,3)}, NACA0009$\"))\n",
    "dm(md(f\"$X_{{c.p}} = {round(X_cp , 3)}$\"))\n",
    "dm(md(f\"$\\\\varphi = {round(varphi*360/(2*np.pi), 1)} \\\\degree$\"))"
   ]
  },
  {
   "cell_type": "code",
   "execution_count": null,
   "id": "bb0cb214",
   "metadata": {},
   "outputs": [],
   "source": []
  }
 ],
 "metadata": {
  "kernelspec": {
   "display_name": "Python 3",
   "language": "python",
   "name": "python3"
  },
  "language_info": {
   "codemirror_mode": {
    "name": "ipython",
    "version": 3
   },
   "file_extension": ".py",
   "mimetype": "text/x-python",
   "name": "python",
   "nbconvert_exporter": "python",
   "pygments_lexer": "ipython3",
   "version": "3.10.7"
  }
 },
 "nbformat": 4,
 "nbformat_minor": 5
}
